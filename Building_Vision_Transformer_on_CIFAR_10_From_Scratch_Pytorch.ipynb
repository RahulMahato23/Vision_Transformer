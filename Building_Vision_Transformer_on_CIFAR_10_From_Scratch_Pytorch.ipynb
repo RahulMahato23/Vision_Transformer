{
  "nbformat": 4,
  "nbformat_minor": 0,
  "metadata": {
    "colab": {
      "provenance": [],
      "gpuType": "T4"
    },
    "kernelspec": {
      "name": "python3",
      "display_name": "Python 3"
    },
    "language_info": {
      "name": "python"
    },
    "accelerator": "GPU",
  "cells": [
    {
      "cell_type": "markdown",
      "source": [
        "# Import required libraries"
      ],
      "metadata": {
        "id": "qiZtSiWqrACp"
      }
    },
    {
      "cell_type": "code",
      "source": [
        "import torch\n",
        "import torch.nn as nn\n",
        "import torch.nn.functional as F\n",
        "import torch.optim as optim\n",
        "import torchvision\n",
        "from torch.utils.data import DataLoader\n",
        "from torchvision import datasets, transforms\n",
        "import numpy as np\n",
        "import random\n",
        "import matplotlib.pyplot as plt"
      ],
      "metadata": {
        "id": "oIocKuxUsk48"
      },
      "execution_count": null,
      "outputs": []
    },
    {
      "cell_type": "code",
      "source": [
        "torch.__version__"
      ],
      "metadata": {
        "colab": {
          "base_uri": "https://localhost:8080/",
          "height": 36
        },
        "id": "S_8aJ6ICtxsI",
        "outputId": "0e2933dc-6ee9-4fea-ce28-a7b2c0e9f576"
      },
      "execution_count": null,
      "outputs": [
        {
          "output_type": "execute_result",
          "data": {
            "text/plain": [
              "'2.8.0+cu126'"
            ],
            "application/vnd.google.colaboratory.intrinsic+json": {
              "type": "string"
            }
          },
          "metadata": {},
          "execution_count": 2
        }
      ]
    },
    {
      "cell_type": "code",
      "source": [
        "torchvision.__version__"
      ],
      "metadata": {
        "colab": {
          "base_uri": "https://localhost:8080/",
          "height": 36
        },
        "id": "TzF0MsUGt89l",
        "outputId": "8f9b4c4e-8136-4fd6-e85a-685565f30f88"
      },
      "execution_count": null,
      "outputs": [
        {
          "output_type": "execute_result",
          "data": {
            "text/plain": [
              "'0.23.0+cu126'"
            ],
            "application/vnd.google.colaboratory.intrinsic+json": {
              "type": "string"
            }
          },
          "metadata": {},
          "execution_count": 3
        }
      ]
    },
    {
      "cell_type": "markdown",
      "source": [
        "## 2. Setup Device-agnostic Code"
      ],
      "metadata": {
        "id": "rD7cDrUEuN9N"
      }
    },
    {
      "cell_type": "code",
      "source": [
        "!nvidia-smi"
      ],
      "metadata": {
        "colab": {
          "base_uri": "https://localhost:8080/"
        },
        "id": "wT2nk6Bru5if",
        "outputId": "9eab47d5-237d-4895-bed2-88004f7adf94"
      },
      "execution_count": null,
      "outputs": [
        {
          "output_type": "stream",
          "name": "stdout",
          "text": [
            "Thu Sep  4 09:22:15 2025       \n",
            "+-----------------------------------------------------------------------------------------+\n",
            "| NVIDIA-SMI 550.54.15              Driver Version: 550.54.15      CUDA Version: 12.4     |\n",
            "|-----------------------------------------+------------------------+----------------------+\n",
            "| GPU  Name                 Persistence-M | Bus-Id          Disp.A | Volatile Uncorr. ECC |\n",
            "| Fan  Temp   Perf          Pwr:Usage/Cap |           Memory-Usage | GPU-Util  Compute M. |\n",
            "|                                         |                        |               MIG M. |\n",
            "|=========================================+========================+======================|\n",
            "|   0  Tesla T4                       Off |   00000000:00:04.0 Off |                    0 |\n",
            "| N/A   47C    P8              9W /   70W |       0MiB /  15360MiB |      0%      Default |\n",
            "|                                         |                        |                  N/A |\n",
            "+-----------------------------------------+------------------------+----------------------+\n",
            "                                                                                         \n",
            "+-----------------------------------------------------------------------------------------+\n",
            "| Processes:                                                                              |\n",
            "|  GPU   GI   CI        PID   Type   Process name                              GPU Memory |\n",
            "|        ID   ID                                                               Usage      |\n",
            "|=========================================================================================|\n",
            "|  No running processes found                                                             |\n",
            "+-----------------------------------------------------------------------------------------+\n"
          ]
        }
      ]
    },
    {
      "cell_type": "code",
      "source": [
        "torch.cuda.is_available()"
      ],
      "metadata": {
        "colab": {
          "base_uri": "https://localhost:8080/"
        },
        "id": "w1g-7jQOvIGl",
        "outputId": "c20e564d-a166-4dcb-d280-08c3b39e709f"
      },
      "execution_count": null,
      "outputs": [
        {
          "output_type": "execute_result",
          "data": {
            "text/plain": [
              "True"
            ]
          },
          "metadata": {},
          "execution_count": 5
        }
      ]
    },
    {
      "cell_type": "code",
      "source": [
        "device = \"cuda\" if torch.cuda.is_available() else \"cpu\"\n",
        "device"
      ],
      "metadata": {
        "colab": {
          "base_uri": "https://localhost:8080/",
          "height": 36
        },
        "id": "J19ANOFRuhNb",
        "outputId": "520bbde6-df69-4d03-e35f-86e92db218f8"
      },
      "execution_count": null,
      "outputs": [
        {
          "output_type": "execute_result",
          "data": {
            "text/plain": [
              "'cuda'"
            ],
            "application/vnd.google.colaboratory.intrinsic+json": {
              "type": "string"
            }
          },
          "metadata": {},
          "execution_count": 6
        }
      ]
    },
    {
      "cell_type": "code",
      "source": [
        "print(f\"Using Device: {device}\")"
      ],
      "metadata": {
        "colab": {
          "base_uri": "https://localhost:8080/"
        },
        "id": "M5lU73cPvSEN",
        "outputId": "575b9dc9-c98d-46e9-a658-c33606aed454"
      },
      "execution_count": null,
      "outputs": [
        {
          "output_type": "stream",
          "name": "stdout",
          "text": [
            "Using Device: cuda\n"
          ]
        }
      ]
    },
    {
      "cell_type": "markdown",
      "source": [
        "## 3. Set the seed"
      ],
      "metadata": {
        "id": "JhVAUZHbvcft"
      }
    },
    {
      "cell_type": "code",
      "source": [
        "torch.manual_seed(42)\n",
        "torch.cuda.manual_seed(42)\n",
        "random.seed(42)"
      ],
      "metadata": {
        "id": "egDo6iVdvm98"
      },
      "execution_count": null,
      "outputs": []
    },
    {
      "cell_type": "markdown",
      "source": [
        "## 4. Setting the hyperparameters"
      ],
      "metadata": {
        "id": "wIoujqVzv3y3"
      }
    },
    {
      "cell_type": "code",
      "source": [
        "BATCH_SIZE = 128\n",
        "EPOCHS = 10 # Try increasing epochs to 30\n",
        "LEARNING_RATE = 3e-4\n",
        "PATCH_SIZE = 4\n",
        "NUM_CLASSES = 10\n",
        "IMAGE_SIZE = 32 # Transform the image and make the size go to 224\n",
        "CHANNELS = 3\n",
        "EMBED_DIM = 256\n",
        "NUM_HEADS = 8 # Increase the number of heads\n",
        "DEPTH = 6\n",
        "MLP_DIM = 512\n",
        "DROP_RATE = 0.1"
      ],
      "metadata": {
        "id": "XP4svvtYwECM"
      },
      "execution_count": null,
      "outputs": []
    },
    {
      "cell_type": "markdown",
      "source": [
        "## 5. Define Image Transformations"
      ],
      "metadata": {
        "id": "K1um0WVTxTVv"
      }
    },
    {
      "cell_type": "code",
      "source": [
        "# transform = transforms.Compose([\n",
        "#     transforms.ToTensor(),\n",
        "#     transforms.Normalize((0.5), (0.5))\n",
        "#     # 1. Helps the model to converge faster\n",
        "#     # 2. Helps to make the numerical computations stable\n",
        "# ])\n",
        "\n",
        "transform_train = transforms.Compose([\n",
        "    transforms.RandomCrop(32, padding=4),\n",
        "    transforms.RandomHorizontalFlip(),\n",
        "    transforms.ColorJitter(brightness=0.2, contrast=0.2, saturation=0.2, hue=0.2),\n",
        "    transforms.ToTensor(),\n",
        "    transforms.Normalize((0.5), (0.5))\n",
        "])"
      ],
      "metadata": {
        "id": "dbv82y5DxeFG"
      },
      "execution_count": null,
      "outputs": []
    },
    {
      "cell_type": "markdown",
      "source": [
        "## 6. Getting a dataset"
      ],
      "metadata": {
        "id": "Ztis4GVDyM0I"
      }
    },
    {
      "cell_type": "code",
      "source": [
        "  train_dataset = datasets.CIFAR10(root=\"data\",\n",
        "                                   train=True,\n",
        "                                   download=True,\n",
        "                                   transform=transform_train)"
      ],
      "metadata": {
        "id": "wmDFHXPnycOF",
        "colab": {
          "base_uri": "https://localhost:8080/"
        },
        "outputId": "36e09626-713e-4226-8228-966bb15800d4"
      },
      "execution_count": null,
      "outputs": [
        {
          "output_type": "stream",
          "name": "stderr",
          "text": [
            "100%|██████████| 170M/170M [00:13<00:00, 12.8MB/s]\n"
          ]
        }
      ]
    },
    {
      "cell_type": "code",
      "source": [
        "test_dataset = datasets.CIFAR10(root=\"data\",\n",
        "                                train=False,\n",
        "                                download=True,\n",
        "                                transform=transform_train)"
      ],
      "metadata": {
        "id": "u441aLFkzTrf"
      },
      "execution_count": null,
      "outputs": []
    },
    {
      "cell_type": "code",
      "source": [
        "train_dataset"
      ],
      "metadata": {
        "colab": {
          "base_uri": "https://localhost:8080/"
        },
        "id": "LzWWfeMAzx14",
        "outputId": "32517667-3e81-4fda-bfb0-93f48d9e5275"
      },
      "execution_count": null,
      "outputs": [
        {
          "output_type": "execute_result",
          "data": {
            "text/plain": [
              "Dataset CIFAR10\n",
              "    Number of datapoints: 50000\n",
              "    Root location: data\n",
              "    Split: Train\n",
              "    StandardTransform\n",
              "Transform: Compose(\n",
              "               RandomCrop(size=(32, 32), padding=4)\n",
              "               RandomHorizontalFlip(p=0.5)\n",
              "               ColorJitter(brightness=(0.8, 1.2), contrast=(0.8, 1.2), saturation=(0.8, 1.2), hue=(-0.2, 0.2))\n",
              "               ToTensor()\n",
              "               Normalize(mean=0.5, std=0.5)\n",
              "           )"
            ]
          },
          "metadata": {},
          "execution_count": 14
        }
      ]
    },
    {
      "cell_type": "code",
      "source": [
        "test_dataset"
      ],
      "metadata": {
        "colab": {
          "base_uri": "https://localhost:8080/"
        },
        "id": "aRvO8pOUz575",
        "outputId": "535773d1-ef6a-4db6-94c6-7f202d72ef6e"
      },
      "execution_count": null,
      "outputs": [
        {
          "output_type": "execute_result",
          "data": {
            "text/plain": [
              "Dataset CIFAR10\n",
              "    Number of datapoints: 10000\n",
              "    Root location: data\n",
              "    Split: Test\n",
              "    StandardTransform\n",
              "Transform: Compose(\n",
              "               RandomCrop(size=(32, 32), padding=4)\n",
              "               RandomHorizontalFlip(p=0.5)\n",
              "               ColorJitter(brightness=(0.8, 1.2), contrast=(0.8, 1.2), saturation=(0.8, 1.2), hue=(-0.2, 0.2))\n",
              "               ToTensor()\n",
              "               Normalize(mean=0.5, std=0.5)\n",
              "           )"
            ]
          },
          "metadata": {},
          "execution_count": 15
        }
      ]
    },
    {
      "cell_type": "code",
      "source": [
        "len(train_dataset)"
      ],
      "metadata": {
        "colab": {
          "base_uri": "https://localhost:8080/"
        },
        "id": "eyNzonCQ0Izs",
        "outputId": "77657df9-3896-4b7e-d4fc-1ccfc7accaa9"
      },
      "execution_count": null,
      "outputs": [
        {
          "output_type": "execute_result",
          "data": {
            "text/plain": [
              "50000"
            ]
          },
          "metadata": {},
          "execution_count": 16
        }
      ]
    },
    {
      "cell_type": "code",
      "source": [
        "len(test_dataset)"
      ],
      "metadata": {
        "colab": {
          "base_uri": "https://localhost:8080/"
        },
        "id": "Ie8pWg8c0Py2",
        "outputId": "db0ef443-6544-46da-8dbf-9308b5522676"
      },
      "execution_count": null,
      "outputs": [
        {
          "output_type": "execute_result",
          "data": {
            "text/plain": [
              "10000"
            ]
          },
          "metadata": {},
          "execution_count": 17
        }
      ]
    },
    {
      "cell_type": "markdown",
      "source": [
        "## 7. Converting our datasets into dataloaders\n",
        "\n",
        "Right now, our data is in the form of PyTorch Datasets\n",
        "\n",
        "Dataloader turns our data into batches (or mini-batches)\n",
        "\n",
        "Why would we do this?\n",
        "\n",
        "1. It is more computationally efficient, as in, your computer hardware may not be able to look (store in memory) at 50000 images at one hit.So we break it into 128 images at a time. (batch size of 128)\n",
        "2. It gives our neural network more chances to update its gradient per epoch."
      ],
      "metadata": {
        "id": "jOObNz5v0R_N"
      }
    },
    {
      "cell_type": "code",
      "source": [
        "train_loader = DataLoader(dataset=train_dataset,\n",
        "                          batch_size=BATCH_SIZE,\n",
        "                          shuffle=True)\n",
        "\n",
        "test_loader = DataLoader(dataset=test_dataset,\n",
        "                         batch_size=BATCH_SIZE,\n",
        "                         shuffle=True)"
      ],
      "metadata": {
        "id": "scAuknu00ecc"
      },
      "execution_count": null,
      "outputs": []
    },
    {
      "cell_type": "code",
      "source": [
        "# Let's check out what we've created\n",
        "print(f\"DataLoader: {train_loader, test_loader}\")\n",
        "print(f\"Length of train_loader: {len(train_loader)} batches of {BATCH_SIZE}...\")\n",
        "print(f\"Length of test_loader: {len(test_loader)} batches of {BATCH_SIZE}...\")"
      ],
      "metadata": {
        "colab": {
          "base_uri": "https://localhost:8080/"
        },
        "id": "QLQHo3TvRv8I",
        "outputId": "4760fd0e-5861-466e-ca1d-08ff891ccbbc"
      },
      "execution_count": null,
      "outputs": [
        {
          "output_type": "stream",
          "name": "stdout",
          "text": [
            "DataLoader: (<torch.utils.data.dataloader.DataLoader object at 0x79d0c9b07b60>, <torch.utils.data.dataloader.DataLoader object at 0x79d0fab2e0f0>)\n",
            "Length of train_loader: 391 batches of 128...\n",
            "Length of test_loader: 79 batches of 128...\n"
          ]
        }
      ]
    },
    {
      "cell_type": "code",
      "source": [
        "128 * 391"
      ],
      "metadata": {
        "colab": {
          "base_uri": "https://localhost:8080/"
        },
        "id": "G8yITfD3SrhJ",
        "outputId": "365e5f8d-7e33-44b9-da82-09270b9b4820"
      },
      "execution_count": null,
      "outputs": [
        {
          "output_type": "execute_result",
          "data": {
            "text/plain": [
              "50048"
            ]
          },
          "metadata": {},
          "execution_count": 20
        }
      ]
    },
    {
      "cell_type": "code",
      "source": [
        "50000 / 128"
      ],
      "metadata": {
        "colab": {
          "base_uri": "https://localhost:8080/"
        },
        "id": "6UEJdQC5TSMR",
        "outputId": "f6abf6cb-6648-4850-f5d6-f016d7ff39c6"
      },
      "execution_count": null,
      "outputs": [
        {
          "output_type": "execute_result",
          "data": {
            "text/plain": [
              "390.625"
            ]
          },
          "metadata": {},
          "execution_count": 21
        }
      ]
    },
    {
      "cell_type": "markdown",
      "source": [
        "## 8. Building Vision Transformer Model From Scratch"
      ],
      "metadata": {
        "id": "enHtyyXQTfhm"
      }
    },
    {
      "cell_type": "code",
      "source": [
        "class PatchEmbedding(nn.Module):\n",
        "  def __init__(self,\n",
        "               img_size,\n",
        "               patch_size,\n",
        "               in_channels,\n",
        "               embed_dim):\n",
        "    super().__init__()\n",
        "    self.patch_size = patch_size\n",
        "    self.proj = nn.Conv2d(in_channels=in_channels,\n",
        "                          out_channels=embed_dim,\n",
        "                          kernel_size=patch_size,\n",
        "                          stride=patch_size)\n",
        "    num_patches = (img_size // patch_size) ** 2;\n",
        "    self.cls_token = nn.Parameter(torch.randn(1, 1, embed_dim))\n",
        "    self.pos_embed = nn.Parameter(torch.randn(1, num_patches + 1, embed_dim))\n",
        "\n",
        "  def forward(self, x : torch.Tensor):\n",
        "    B = x.size(0)\n",
        "    x = self.proj(x) # (B, E, H/P, W/P)\n",
        "    x = x.flatten(2).transpose(1, 2) # (B, N, E)\n",
        "    cls_token = self.cls_token.expand(B, -1, -1)\n",
        "    x = torch.cat((cls_token, x), dim=1)\n",
        "    x = x + self.pos_embed\n",
        "    return x"
      ],
      "metadata": {
        "id": "VkKzkTGJTzzn"
      },
      "execution_count": null,
      "outputs": []
    },
    {
      "cell_type": "code",
      "source": [
        "F"
      ],
      "metadata": {
        "colab": {
          "base_uri": "https://localhost:8080/"
        },
        "id": "mTac-lJthKDa",
        "outputId": "e2c1dd0b-76db-4d4f-ef85-92ec262fea51"
      },
      "execution_count": null,
      "outputs": [
        {
          "output_type": "execute_result",
          "data": {
            "text/plain": [
              "<module 'torch.nn.functional' from '/usr/local/lib/python3.12/dist-packages/torch/nn/functional.py'>"
            ]
          },
          "metadata": {},
          "execution_count": 23
        }
      ]
    },
    {
      "cell_type": "code",
      "source": [
        "class MLP(nn.Module):\n",
        "  def __init__(self,\n",
        "               in_features,\n",
        "               hidden_features,\n",
        "               drop_rate):\n",
        "    super().__init__()\n",
        "    self.fc1 = nn.Linear(in_features=in_features,\n",
        "                         out_features=hidden_features)\n",
        "    self.fc2 = nn.Linear(in_features=hidden_features,\n",
        "                         out_features=in_features)\n",
        "    self.dropout = nn.Dropout(drop_rate)\n",
        "\n",
        "  def forward(self, x):\n",
        "    x = self.dropout(F.gelu(self.fc1(x)))\n",
        "    x = self.dropout(self.fc2(x))\n",
        "    return x"
      ],
      "metadata": {
        "id": "ezhQjdTcizka"
      },
      "execution_count": null,
      "outputs": []
    },
    {
      "cell_type": "code",
      "source": [
        "class TransformerEncoderLayer(nn.Module):\n",
        "  def __init__(self, embed_dim, num_heads, mlp_dim, drop_rate):\n",
        "    super().__init__()\n",
        "    self.norm1 = nn.LayerNorm(embed_dim)\n",
        "    self.attn = nn.MultiheadAttention(embed_dim, num_heads, dropout=drop_rate, batch_first=True)\n",
        "    self.norm2 = nn.LayerNorm(embed_dim)\n",
        "    self.mlp = MLP(embed_dim, mlp_dim, drop_rate)\n",
        "\n",
        "  def forward(self, x):\n",
        "    x = x + self.attn(self.norm1(x), self.norm1(x), self.norm1(x))[0]\n",
        "    x = x + self.mlp(self.norm2(x))\n",
        "    return x"
      ],
      "metadata": {
        "id": "_ENw0QZdkdIC"
      },
      "execution_count": null,
      "outputs": []
    },
    {
      "cell_type": "code",
      "source": [
        "class VisionTransformer(nn.Module):\n",
        "  def __init__(self, img_size, patch_size, in_channels, num_classes, embed_dim, depth, num_heads,  mlp_dim, drop_rate):\n",
        "    super().__init__()\n",
        "    self.patch_embed = PatchEmbedding(img_size, patch_size, in_channels, embed_dim)\n",
        "    self.encoder = nn.Sequential(*[\n",
        "        TransformerEncoderLayer(embed_dim, num_heads, mlp_dim, drop_rate)\n",
        "        for _ in range(depth)\n",
        "    ])\n",
        "    self.norm = nn.LayerNorm(embed_dim)\n",
        "    self.head = nn.Linear(embed_dim, num_classes)\n",
        "\n",
        "  def forward(self, x):\n",
        "    x = self.patch_embed(x)\n",
        "    x = self.encoder(x)\n",
        "    x = self.norm(x)\n",
        "    cls_token = x[:, 0]\n",
        "    return self.head(cls_token)"
      ],
      "metadata": {
        "id": "IYjiDUL6re3J"
      },
      "execution_count": null,
      "outputs": []
    },
    {
      "cell_type": "code",
      "source": [
        "# Instantiate the model\n",
        "model = VisionTransformer(\n",
        "    IMAGE_SIZE, PATCH_SIZE, CHANNELS, NUM_CLASSES,\n",
        "    EMBED_DIM, DEPTH, NUM_HEADS, MLP_DIM, DROP_RATE\n",
        ").to(device)"
      ],
      "metadata": {
        "id": "PKz9poNLvWzc"
      },
      "execution_count": null,
      "outputs": []
    },
    {
      "cell_type": "code",
      "source": [
        "model"
      ],
      "metadata": {
        "colab": {
          "base_uri": "https://localhost:8080/"
        },
        "id": "cE0du-IDxbqo",
        "outputId": "434344a8-c6bc-4150-b1fb-1a1a40f0efe4"
      },
      "execution_count": null,
      "outputs": [
        {
          "output_type": "execute_result",
          "data": {
            "text/plain": [
              "VisionTransformer(\n",
              "  (patch_embed): PatchEmbedding(\n",
              "    (proj): Conv2d(3, 256, kernel_size=(4, 4), stride=(4, 4))\n",
              "  )\n",
              "  (encoder): Sequential(\n",
              "    (0): TransformerEncoderLayer(\n",
              "      (norm1): LayerNorm((256,), eps=1e-05, elementwise_affine=True)\n",
              "      (attn): MultiheadAttention(\n",
              "        (out_proj): NonDynamicallyQuantizableLinear(in_features=256, out_features=256, bias=True)\n",
              "      )\n",
              "      (norm2): LayerNorm((256,), eps=1e-05, elementwise_affine=True)\n",
              "      (mlp): MLP(\n",
              "        (fc1): Linear(in_features=256, out_features=512, bias=True)\n",
              "        (fc2): Linear(in_features=512, out_features=256, bias=True)\n",
              "        (dropout): Dropout(p=0.1, inplace=False)\n",
              "      )\n",
              "    )\n",
              "    (1): TransformerEncoderLayer(\n",
              "      (norm1): LayerNorm((256,), eps=1e-05, elementwise_affine=True)\n",
              "      (attn): MultiheadAttention(\n",
              "        (out_proj): NonDynamicallyQuantizableLinear(in_features=256, out_features=256, bias=True)\n",
              "      )\n",
              "      (norm2): LayerNorm((256,), eps=1e-05, elementwise_affine=True)\n",
              "      (mlp): MLP(\n",
              "        (fc1): Linear(in_features=256, out_features=512, bias=True)\n",
              "        (fc2): Linear(in_features=512, out_features=256, bias=True)\n",
              "        (dropout): Dropout(p=0.1, inplace=False)\n",
              "      )\n",
              "    )\n",
              "    (2): TransformerEncoderLayer(\n",
              "      (norm1): LayerNorm((256,), eps=1e-05, elementwise_affine=True)\n",
              "      (attn): MultiheadAttention(\n",
              "        (out_proj): NonDynamicallyQuantizableLinear(in_features=256, out_features=256, bias=True)\n",
              "      )\n",
              "      (norm2): LayerNorm((256,), eps=1e-05, elementwise_affine=True)\n",
              "      (mlp): MLP(\n",
              "        (fc1): Linear(in_features=256, out_features=512, bias=True)\n",
              "        (fc2): Linear(in_features=512, out_features=256, bias=True)\n",
              "        (dropout): Dropout(p=0.1, inplace=False)\n",
              "      )\n",
              "    )\n",
              "    (3): TransformerEncoderLayer(\n",
              "      (norm1): LayerNorm((256,), eps=1e-05, elementwise_affine=True)\n",
              "      (attn): MultiheadAttention(\n",
              "        (out_proj): NonDynamicallyQuantizableLinear(in_features=256, out_features=256, bias=True)\n",
              "      )\n",
              "      (norm2): LayerNorm((256,), eps=1e-05, elementwise_affine=True)\n",
              "      (mlp): MLP(\n",
              "        (fc1): Linear(in_features=256, out_features=512, bias=True)\n",
              "        (fc2): Linear(in_features=512, out_features=256, bias=True)\n",
              "        (dropout): Dropout(p=0.1, inplace=False)\n",
              "      )\n",
              "    )\n",
              "    (4): TransformerEncoderLayer(\n",
              "      (norm1): LayerNorm((256,), eps=1e-05, elementwise_affine=True)\n",
              "      (attn): MultiheadAttention(\n",
              "        (out_proj): NonDynamicallyQuantizableLinear(in_features=256, out_features=256, bias=True)\n",
              "      )\n",
              "      (norm2): LayerNorm((256,), eps=1e-05, elementwise_affine=True)\n",
              "      (mlp): MLP(\n",
              "        (fc1): Linear(in_features=256, out_features=512, bias=True)\n",
              "        (fc2): Linear(in_features=512, out_features=256, bias=True)\n",
              "        (dropout): Dropout(p=0.1, inplace=False)\n",
              "      )\n",
              "    )\n",
              "    (5): TransformerEncoderLayer(\n",
              "      (norm1): LayerNorm((256,), eps=1e-05, elementwise_affine=True)\n",
              "      (attn): MultiheadAttention(\n",
              "        (out_proj): NonDynamicallyQuantizableLinear(in_features=256, out_features=256, bias=True)\n",
              "      )\n",
              "      (norm2): LayerNorm((256,), eps=1e-05, elementwise_affine=True)\n",
              "      (mlp): MLP(\n",
              "        (fc1): Linear(in_features=256, out_features=512, bias=True)\n",
              "        (fc2): Linear(in_features=512, out_features=256, bias=True)\n",
              "        (dropout): Dropout(p=0.1, inplace=False)\n",
              "      )\n",
              "    )\n",
              "  )\n",
              "  (norm): LayerNorm((256,), eps=1e-05, elementwise_affine=True)\n",
              "  (head): Linear(in_features=256, out_features=10, bias=True)\n",
              ")"
            ]
          },
          "metadata": {},
          "execution_count": 28
        }
      ]
    },
    {
      "cell_type": "markdown",
      "source": [
        "## 9. Defining a Loss function and an optimizer"
      ],
      "metadata": {
        "id": "iNlm4Gd9xmZL"
      }
    },
    {
      "cell_type": "code",
      "source": [
        "criterion = nn.CrossEntropyLoss() # Measure how wrong our model is\n",
        "optimizer = torch.optim.Adam(params=model.parameters(), # update our model's parameters to try and reduce the loss\n",
        "                             lr=LEARNING_RATE)"
      ],
      "metadata": {
        "id": "MCzS2MHXyJ2h"
      },
      "execution_count": null,
      "outputs": []
    },
    {
      "cell_type": "code",
      "source": [
        "criterion"
      ],
      "metadata": {
        "colab": {
          "base_uri": "https://localhost:8080/"
        },
        "id": "__rYWdvR23xD",
        "outputId": "08bb72e1-a803-4346-9467-891a8d20ac47"
      },
      "execution_count": null,
      "outputs": [
        {
          "output_type": "execute_result",
          "data": {
            "text/plain": [
              "CrossEntropyLoss()"
            ]
          },
          "metadata": {},
          "execution_count": 30
        }
      ]
    },
    {
      "cell_type": "code",
      "source": [
        "optimizer"
      ],
      "metadata": {
        "colab": {
          "base_uri": "https://localhost:8080/"
        },
        "id": "W_wU1ZMA3MJ9",
        "outputId": "5ede0c92-b5d5-4659-ac32-3d95de36f472"
      },
      "execution_count": null,
      "outputs": [
        {
          "output_type": "execute_result",
          "data": {
            "text/plain": [
              "Adam (\n",
              "Parameter Group 0\n",
              "    amsgrad: False\n",
              "    betas: (0.9, 0.999)\n",
              "    capturable: False\n",
              "    decoupled_weight_decay: False\n",
              "    differentiable: False\n",
              "    eps: 1e-08\n",
              "    foreach: None\n",
              "    fused: None\n",
              "    lr: 0.0003\n",
              "    maximize: False\n",
              "    weight_decay: 0\n",
              ")"
            ]
          },
          "metadata": {},
          "execution_count": 31
        }
      ]
    },
    {
      "cell_type": "markdown",
      "source": [
        "## 10. Defining a Training Loop function"
      ],
      "metadata": {
        "id": "8EIgfCh13O1D"
      }
    },
    {
      "cell_type": "code",
      "source": [
        "def train(model, loader, optimizer, criterion):\n",
        "  # Set the mode of the model into training\n",
        "  model.train()\n",
        "\n",
        "  total_loss, correct = 0, 0\n",
        "\n",
        "  for x, y in loader:\n",
        "    # Moving (Sending) our data into the target device\n",
        "    x, y = x.to(device), y.to(device)\n",
        "    optimizer.zero_grad()\n",
        "    # 1. Forward pass (model outputs raw logits)\n",
        "    out = model(x)\n",
        "    # 2. Calculate loss (per batch)\n",
        "    loss = criterion(out, y)\n",
        "    # 3. Perform backpropagation\n",
        "    loss.backward()\n",
        "    # 4. Perform Gradient Descent\n",
        "    optimizer.step()\n",
        "\n",
        "    total_loss += loss.item() * x.size(0)\n",
        "    correct += (out.argmax(1) == y).sum().item()\n",
        "  # You have to scale the loss (Normalization step to make the loss general across all batches)\n",
        "  return total_loss / len(loader.dataset), correct / len(loader.dataset)"
      ],
      "metadata": {
        "id": "nslWCAZa3mZ7"
      },
      "execution_count": null,
      "outputs": []
    },
    {
      "cell_type": "code",
      "source": [
        "def evaluate(model, loader):\n",
        "  model.eval() # Set the mode of the model into evaluation\n",
        "  correct = 0\n",
        "  with torch.inference_mode():\n",
        "    for x, y in loader:\n",
        "      x, y = x.to(device) , y.to(device)\n",
        "      out = model(x)\n",
        "      correct += (out.argmax(dim=1) == y).sum().item()\n",
        "    return correct / len(loader.dataset)"
      ],
      "metadata": {
        "id": "YL1h0HYw-egb"
      },
      "execution_count": null,
      "outputs": []
    },
    {
      "cell_type": "code",
      "source": [
        "EPOCHS"
      ],
      "metadata": {
        "colab": {
          "base_uri": "https://localhost:8080/"
        },
        "id": "rdXvMyG7AI4C",
        "outputId": "be67adb7-308d-42ed-83e2-0558b0ad20a8"
      },
      "execution_count": null,
      "outputs": [
        {
          "output_type": "execute_result",
          "data": {
            "text/plain": [
              "10"
            ]
          },
          "metadata": {},
          "execution_count": 34
        }
      ]
    },
    {
      "cell_type": "code",
      "source": [
        "from tqdm.auto import tqdm"
      ],
      "metadata": {
        "id": "exmx6hb4AKUU"
      },
      "execution_count": null,
      "outputs": []
    },
    {
      "cell_type": "code",
      "source": [
        "### Training\n",
        "train_accuracies, test_accuracies = [], []\n",
        "\n",
        "for epoch in tqdm(range(EPOCHS)):\n",
        "  train_loss, train_acc = train(model, train_loader, optimizer, criterion)\n",
        "  test_acc = evaluate(model, test_loader)\n",
        "  train_accuracies.append(train_acc)\n",
        "  test_accuracies.append(test_acc)\n",
        "  print(f\"Epoch: {epoch + 1} / {EPOCHS}, Train loss: {train_loss:.4f}, Train acc: {train_acc:.4f}, Test acc: {test_acc:.4f}\")"
      ],
      "metadata": {
        "colab": {
          "base_uri": "https://localhost:8080/",
          "height": 223,
          "referenced_widgets": [
            "ddf45090fc39440d8d0d370c0c173eb8",
            "eb25b6c85d2345c1b8d12886494b9119",
            "6e1b2f108d33409bb46259391afc64bd",
            "d240ab7a60ef4d33ac426274fdd3a018",
            "48a0f7ec1e81469f93f61faef8c606b0",
            "d5a6bd98c31c49b187352eb232793d26",
            "7f93aa699667439ba916674579c4a988",
            "da4c391eca1d4c5fb8ce3068999f1232",
            "14e13e1f1b2a47758e0e3ee03b141b03",
            "6f0fa1937f1047fb9845bc2cb3281a9d",
            "bce9adebdab44df9b062ce403766ad2d"
          ]
        },
        "id": "9ZKamwRjBL9c",
        "outputId": "b156d425-7a44-49d3-9178-a4782221162f"
      },
      "execution_count": null,
      "outputs": [
        {
          "output_type": "display_data",
          "data": {
            "text/plain": [
              "  0%|          | 0/10 [00:00<?, ?it/s]"
            ],
            "application/vnd.jupyter.widget-view+json": {
              "version_major": 2,
              "version_minor": 0,
              "model_id": "ddf45090fc39440d8d0d370c0c173eb8"
            }
          },
          "metadata": {}
        },
        {
          "output_type": "stream",
          "name": "stdout",
          "text": [
            "Epoch: 1 / 10, Train loss: 1.9472, Train acc: 0.2851, Test acc: 0.3583\n",
            "Epoch: 2 / 10, Train loss: 1.6812, Train acc: 0.3907, Test acc: 0.4436\n",
            "Epoch: 3 / 10, Train loss: 1.5529, Train acc: 0.4357, Test acc: 0.4596\n",
            "Epoch: 4 / 10, Train loss: 1.4812, Train acc: 0.4639, Test acc: 0.4746\n",
            "Epoch: 5 / 10, Train loss: 1.4156, Train acc: 0.4911, Test acc: 0.5102\n",
            "Epoch: 6 / 10, Train loss: 1.3664, Train acc: 0.5079, Test acc: 0.5330\n",
            "Epoch: 7 / 10, Train loss: 1.3097, Train acc: 0.5292, Test acc: 0.5454\n",
            "Epoch: 8 / 10, Train loss: 1.2643, Train acc: 0.5487, Test acc: 0.5566\n",
            "Epoch: 9 / 10, Train loss: 1.2201, Train acc: 0.5653, Test acc: 0.5757\n",
            "Epoch: 10 / 10, Train loss: 1.1777, Train acc: 0.5795, Test acc: 0.5833\n"
          ]
        }
      ]
    },
    {
      "cell_type": "code",
      "source": [
        "train_accuracies"
      ],
      "metadata": {
        "id": "Vpd0k8yQCNVl",
        "colab": {
          "base_uri": "https://localhost:8080/"
        },
        "outputId": "0b390e4c-4576-43c4-b5fc-b8e7ec791775"
      },
      "execution_count": null,
      "outputs": [
        {
          "output_type": "execute_result",
          "data": {
            "text/plain": [
              "[0.28512,\n",
              " 0.39068,\n",
              " 0.43566,\n",
              " 0.4639,\n",
              " 0.49106,\n",
              " 0.50792,\n",
              " 0.52922,\n",
              " 0.54866,\n",
              " 0.56532,\n",
              " 0.57946]"
            ]
          },
          "metadata": {},
          "execution_count": 37
        }
      ]
    },
    {
      "cell_type": "code",
      "source": [
        "test_accuracies"
      ],
      "metadata": {
        "colab": {
          "base_uri": "https://localhost:8080/"
        },
        "id": "DfhQYbYYvjW8",
        "outputId": "a58f754d-9642-480c-c367-da8a24c8c406"
      },
      "execution_count": null,
      "outputs": [
        {
          "output_type": "execute_result",
          "data": {
            "text/plain": [
              "[0.3583, 0.4436, 0.4596, 0.4746, 0.5102, 0.533, 0.5454, 0.5566, 0.5757, 0.5833]"
            ]
          },
          "metadata": {},
          "execution_count": 38
        }
      ]
    },
    {
      "cell_type": "code",
      "source": [
        "# Plot accuracy\n",
        "plt.plot(train_accuracies, label=\"Train Accuracy\")\n",
        "plt.plot(test_accuracies, label=\"Test Accuracy\")\n",
        "plt.xlabel(\"Epochs\")\n",
        "plt.ylabel(\"Accuracy\")\n",
        "plt.legend()\n",
        "plt.title(\"Training and Test Accuracy\")\n",
        "plt.show()"
      ],
      "metadata": {
        "colab": {
          "base_uri": "https://localhost:8080/",
          "height": 472
        },
        "id": "wLFzlFtavs6L",
        "outputId": "f97f465e-2885-489e-9c9f-c44f09cf95f4"
      },
      "execution_count": null,
      "outputs": [
        {
          "output_type": "display_data",
          "data": {
            "text/plain": [
              "<Figure size 640x480 with 1 Axes>"
            ],
            "image/png": "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\n"
          },
          "metadata": {}
        }
      ]
    },
    {
      "cell_type": "code",
      "source": [
        "import random"
      ],
      "metadata": {
        "id": "yY1qZvwqwTc0"
      },
      "execution_count": null,
      "outputs": []
    },
    {
      "cell_type": "code",
      "source": [
        "test_dataset[0]"
      ],
      "metadata": {
        "colab": {
          "base_uri": "https://localhost:8080/"
        },
        "id": "WNkYPvfywkz8",
        "outputId": "ccc10cff-e05d-4d12-c10b-eb530fb332c6"
      },
      "execution_count": null,
      "outputs": [
        {
          "output_type": "execute_result",
          "data": {
            "text/plain": [
              "(tensor([[[-0.9373, -0.9373, -0.9373,  ..., -0.9373, -0.9373, -0.9373],\n",
              "          [-0.9373, -0.9373, -0.9373,  ..., -0.9373, -0.9373, -0.9373],\n",
              "          [-0.9373, -0.9373, -0.9373,  ..., -0.9373, -0.9373, -0.9373],\n",
              "          ...,\n",
              "          [-0.5137, -0.6392, -0.6157,  ..., -0.7725, -0.6627, -0.9373],\n",
              "          [-0.4196, -0.4980, -0.6392,  ..., -0.7412, -0.6314, -0.9373],\n",
              "          [-0.6627, -0.5451, -0.5451,  ..., -0.7412, -0.6471, -0.9373]],\n",
              " \n",
              "         [[-0.9373, -0.9373, -0.9373,  ..., -0.9373, -0.9373, -0.9373],\n",
              "          [-0.9373, -0.9373, -0.9373,  ..., -0.9373, -0.9373, -0.9373],\n",
              "          [-0.9373, -0.9373, -0.9373,  ..., -0.9373, -0.9373, -0.9373],\n",
              "          ...,\n",
              "          [ 0.0431, -0.0510, -0.0431,  ..., -0.0980,  0.0196, -0.9373],\n",
              "          [ 0.1529,  0.1137, -0.0196,  ..., -0.0588,  0.0353, -0.9373],\n",
              "          [-0.1137,  0.1059,  0.1451,  ..., -0.0588,  0.0039, -0.9373]],\n",
              " \n",
              "         [[-0.9373, -0.9373, -0.9373,  ..., -0.9373, -0.9373, -0.9373],\n",
              "          [-0.9373, -0.9373, -0.9373,  ..., -0.9373, -0.9373, -0.9373],\n",
              "          [-0.9373, -0.9373, -0.9373,  ..., -0.9373, -0.9373, -0.9373],\n",
              "          ...,\n",
              "          [ 0.1294,  0.0353,  0.0431,  ..., -0.0353,  0.0980, -0.9373],\n",
              "          [ 0.2235,  0.2000,  0.0745,  ...,  0.0039,  0.1137, -0.9373],\n",
              "          [-0.0353,  0.1843,  0.2235,  ...,  0.0196,  0.0980, -0.9373]]]),\n",
              " 3)"
            ]
          },
          "metadata": {},
          "execution_count": 41
        }
      ]
    },
    {
      "cell_type": "code",
      "source": [
        "test_dataset[0][0].shape"
      ],
      "metadata": {
        "colab": {
          "base_uri": "https://localhost:8080/"
        },
        "id": "_4yXN8voxYik",
        "outputId": "3eca8ae0-eb01-4853-9278-4bf9b71a5e3f"
      },
      "execution_count": null,
      "outputs": [
        {
          "output_type": "execute_result",
          "data": {
            "text/plain": [
              "torch.Size([3, 32, 32])"
            ]
          },
          "metadata": {},
          "execution_count": 42
        }
      ]
    },
    {
      "cell_type": "code",
      "source": [
        "test_dataset[0][0].unsqueeze(dim=0).shape"
      ],
      "metadata": {
        "colab": {
          "base_uri": "https://localhost:8080/"
        },
        "id": "itTmWURsxgH0",
        "outputId": "119b99dc-8267-4e4d-b558-708b81573848"
      },
      "execution_count": null,
      "outputs": [
        {
          "output_type": "execute_result",
          "data": {
            "text/plain": [
              "torch.Size([1, 3, 32, 32])"
            ]
          },
          "metadata": {},
          "execution_count": 43
        }
      ]
    },
    {
      "cell_type": "code",
      "source": [
        "test_dataset[0][0] / 2 + 0.5"
      ],
      "metadata": {
        "colab": {
          "base_uri": "https://localhost:8080/"
        },
        "id": "o0qsc59KyJS0",
        "outputId": "66892c4e-db0b-448e-cf36-45782922346d"
      },
      "execution_count": null,
      "outputs": [
        {
          "output_type": "execute_result",
          "data": {
            "text/plain": [
              "tensor([[[0.3686, 0.3529, 0.3333,  ..., 0.0471, 0.0471, 0.0471],\n",
              "         [0.3608, 0.3059, 0.2745,  ..., 0.0471, 0.0471, 0.0471],\n",
              "         [0.3373, 0.2314, 0.2314,  ..., 0.0471, 0.0471, 0.0471],\n",
              "         ...,\n",
              "         [0.0471, 0.0471, 0.0471,  ..., 0.0471, 0.0471, 0.0471],\n",
              "         [0.0471, 0.0471, 0.0471,  ..., 0.0471, 0.0471, 0.0471],\n",
              "         [0.0471, 0.0471, 0.0471,  ..., 0.0471, 0.0471, 0.0471]],\n",
              "\n",
              "        [[0.5882, 0.5569, 0.4863,  ..., 0.0471, 0.0471, 0.0471],\n",
              "         [0.5451, 0.4549, 0.3725,  ..., 0.0471, 0.0471, 0.0471],\n",
              "         [0.4627, 0.3059, 0.2706,  ..., 0.0471, 0.0471, 0.0471],\n",
              "         ...,\n",
              "         [0.0471, 0.0471, 0.0471,  ..., 0.0471, 0.0471, 0.0471],\n",
              "         [0.0471, 0.0471, 0.0471,  ..., 0.0471, 0.0471, 0.0471],\n",
              "         [0.0471, 0.0471, 0.0471,  ..., 0.0471, 0.0471, 0.0471]],\n",
              "\n",
              "        [[0.2157, 0.2275, 0.2235,  ..., 0.0471, 0.0471, 0.0471],\n",
              "         [0.2353, 0.2235, 0.2314,  ..., 0.0471, 0.0471, 0.0471],\n",
              "         [0.2392, 0.1961, 0.2314,  ..., 0.0471, 0.0471, 0.0471],\n",
              "         ...,\n",
              "         [0.0471, 0.0471, 0.0471,  ..., 0.0471, 0.0471, 0.0471],\n",
              "         [0.0471, 0.0471, 0.0471,  ..., 0.0471, 0.0471, 0.0471],\n",
              "         [0.0471, 0.0471, 0.0471,  ..., 0.0471, 0.0471, 0.0471]]])"
            ]
          },
          "metadata": {},
          "execution_count": 44
        }
      ]
    },
    {
      "cell_type": "code",
      "source": [
        "def predict_and_plot_grid(model,\n",
        "                          dataset,\n",
        "                          classes,\n",
        "                          grid_size=3):\n",
        "  model.eval()\n",
        "  fig, axes = plt.subplots(grid_size, grid_size, figsize=(9,9))\n",
        "  for i in range(grid_size):\n",
        "    for j in range(grid_size):\n",
        "      idx = random.randint(0, len(dataset) - 1)\n",
        "      img, true_label = dataset[idx]\n",
        "      input_tensor = img.unsqueeze(dim=0).to(device)\n",
        "      with torch.inference_mode():\n",
        "        output = model(input_tensor)\n",
        "        _, predicted = torch.max(output.data, 1)\n",
        "      img = img / 2 + 0.5 # Unnormalize our images to be able to use them with matplotlib\n",
        "      npimg = img.cpu().numpy()\n",
        "      axes[i, j].imshow(np.transpose(npimg, (1, 2, 0)))\n",
        "      truth = classes[true_label] == classes[predicted.item()]\n",
        "      if truth:\n",
        "        color = \"g\"\n",
        "      else:\n",
        "        color = \"r\"\n",
        "      axes[i, j].set_title(f\"Truth: {classes[true_label]}\\n, Predicted: {classes[predicted.item()]}\", fontsize=10, c=color)\n",
        "      axes[i, j].axis(\"off\")\n",
        "  plt.tight_layout()\n",
        "  plt.show()"
      ],
      "metadata": {
        "id": "JBpXGYhlyOwN"
      },
      "execution_count": null,
      "outputs": []
    },
    {
      "cell_type": "code",
      "source": [
        "predict_and_plot_grid(model, test_dataset, classes=train_dataset.classes, grid_size=3)"
      ],
      "metadata": {
        "colab": {
          "base_uri": "https://localhost:8080/",
          "height": 906
        },
        "id": "WcHEZ3_D1OIO",
        "outputId": "cbbf656c-96bb-4295-8679-f6222b4d5a5c"
      },
      "execution_count": null,
      "outputs": [
        {
          "output_type": "display_data",
          "data": {
            "text/plain": [
              "<Figure size 900x900 with 9 Axes>"
            ],
            "image/png": "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\n"
          },
          "metadata": {}
        }
      ]
    },
    {
      "cell_type": "code",
      "source": [],
      "metadata": {
        "id": "tAufSWRT4xAA"
      },
      "execution_count": null,
      "outputs": []
    }
  ]
}
