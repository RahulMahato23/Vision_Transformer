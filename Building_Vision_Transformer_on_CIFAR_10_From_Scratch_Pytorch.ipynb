{
<<<<<<< Updated upstream
  "nbformat": 4,
  "nbformat_minor": 0,
  "metadata": {
    "colab": {
      "provenance": [],
      "include_colab_link": true
    },
    "kernelspec": {
      "name": "python3",
      "display_name": "Python 3"
    },
    "language_info": {
      "name": "python"
    },
  },
  "cells": [
    {
      "cell_type": "markdown",
      "metadata": {
        "id": "view-in-github",
        "colab_type": "text"
      },
      "source": [
        "<a href=\"https://colab.research.google.com/github/RahulMahato23/Vision_Transformer/blob/main/Building_Vision_Transformer_on_CIFAR_10_From_Scratch_Pytorch.ipynb\" target=\"_parent\"><img src=\"https://colab.research.google.com/assets/colab-badge.svg\" alt=\"Open In Colab\"/></a>"
      ]
    },
    {
      "cell_type": "markdown",
      "source": [
        "# Import required libraries"
      ],
=======
  "cells": [
    {
      "cell_type": "markdown",
>>>>>>> Stashed changes
      "metadata": {
        "id": "qiZtSiWqrACp"
      },
      "source": [
        "# Import required libraries"
      ]
    },
    {
      "cell_type": "code",
      "execution_count": null,
      "metadata": {
        "id": "oIocKuxUsk48"
      },
      "outputs": [],
      "source": [
        "import torch\n",
        "import torch.nn as nn\n",
        "import torch.nn.functional as F\n",
        "import torch.optim as optim\n",
        "import torchvision\n",
        "from torch.utils.data import DataLoader\n",
        "from torchvision import datasets, transforms\n",
        "import numpy as np\n",
        "import random\n",
        "import matplotlib.pyplot as plt"
<<<<<<< Updated upstream
      ],
      "metadata": {
        "id": "oIocKuxUsk48"
      },
      "execution_count": 1,
      "outputs": []
=======
      ]
>>>>>>> Stashed changes
    },
    {
      "cell_type": "code",
      "execution_count": null,
      "metadata": {
        "colab": {
          "base_uri": "https://localhost:8080/",
          "height": 36
        },
        "id": "S_8aJ6ICtxsI",
        "outputId": "412ccd01-0a6f-4383-b178-cccebd468cce"
      },
<<<<<<< Updated upstream
      "execution_count": 2,
=======
>>>>>>> Stashed changes
      "outputs": [
        {
          "data": {
            "application/vnd.google.colaboratory.intrinsic+json": {
              "type": "string"
            },
            "text/plain": [
              "'2.8.0+cu126'"
            ]
          },
          "execution_count": 2,
          "metadata": {},
          "output_type": "execute_result"
        }
      ],
      "source": [
        "torch.__version__"
      ]
    },
    {
      "cell_type": "code",
      "execution_count": null,
      "metadata": {
        "colab": {
          "base_uri": "https://localhost:8080/",
          "height": 36
        },
        "id": "TzF0MsUGt89l",
        "outputId": "0609f86f-556b-46a9-8edc-832685952d47"
      },
<<<<<<< Updated upstream
      "execution_count": 3,
=======
>>>>>>> Stashed changes
      "outputs": [
        {
          "data": {
            "application/vnd.google.colaboratory.intrinsic+json": {
              "type": "string"
            },
            "text/plain": [
              "'0.23.0+cu126'"
            ]
          },
          "execution_count": 3,
          "metadata": {},
          "output_type": "execute_result"
        }
      ],
      "source": [
        "torchvision.__version__"
      ]
    },
    {
      "cell_type": "markdown",
      "metadata": {
        "id": "rD7cDrUEuN9N"
      },
      "source": [
        "## 2. Setup Device-agnostic Code"
      ]
    },
    {
      "cell_type": "code",
      "execution_count": null,
      "metadata": {
        "colab": {
          "base_uri": "https://localhost:8080/"
        },
        "id": "wT2nk6Bru5if",
        "outputId": "b1e274b8-5365-43b7-d32d-0cbd50e5639d"
      },
<<<<<<< Updated upstream
      "execution_count": 4,
=======
>>>>>>> Stashed changes
      "outputs": [
        {
          "name": "stdout",
          "output_type": "stream",
          "text": [
            "Fri Sep  5 07:43:00 2025       \n",
            "+-----------------------------------------------------------------------------------------+\n",
            "| NVIDIA-SMI 550.54.15              Driver Version: 550.54.15      CUDA Version: 12.4     |\n",
            "|-----------------------------------------+------------------------+----------------------+\n",
            "| GPU  Name                 Persistence-M | Bus-Id          Disp.A | Volatile Uncorr. ECC |\n",
            "| Fan  Temp   Perf          Pwr:Usage/Cap |           Memory-Usage | GPU-Util  Compute M. |\n",
            "|                                         |                        |               MIG M. |\n",
            "|=========================================+========================+======================|\n",
            "|   0  Tesla T4                       Off |   00000000:00:04.0 Off |                    0 |\n",
            "| N/A   35C    P8              9W /   70W |       0MiB /  15360MiB |      0%      Default |\n",
            "|                                         |                        |                  N/A |\n",
            "+-----------------------------------------+------------------------+----------------------+\n",
            "                                                                                         \n",
            "+-----------------------------------------------------------------------------------------+\n",
            "| Processes:                                                                              |\n",
            "|  GPU   GI   CI        PID   Type   Process name                              GPU Memory |\n",
            "|        ID   ID                                                               Usage      |\n",
            "|=========================================================================================|\n",
            "|  No running processes found                                                             |\n",
            "+-----------------------------------------------------------------------------------------+\n"
          ]
        }
      ],
      "source": [
        "!nvidia-smi"
      ]
    },
    {
      "cell_type": "code",
      "execution_count": null,
      "metadata": {
        "colab": {
          "base_uri": "https://localhost:8080/"
        },
        "id": "w1g-7jQOvIGl",
        "outputId": "a926103d-398a-4ac4-9c66-8fbafcb3c91e"
      },
<<<<<<< Updated upstream
      "execution_count": 5,
=======
>>>>>>> Stashed changes
      "outputs": [
        {
          "data": {
            "text/plain": [
              "True"
            ]
          },
          "execution_count": 5,
          "metadata": {},
          "output_type": "execute_result"
        }
      ],
      "source": [
        "torch.cuda.is_available()"
      ]
    },
    {
      "cell_type": "code",
      "execution_count": null,
      "metadata": {
        "colab": {
          "base_uri": "https://localhost:8080/",
          "height": 36
        },
        "id": "J19ANOFRuhNb",
        "outputId": "7c456990-38af-4f9c-d5fa-682059478f60"
      },
<<<<<<< Updated upstream
      "execution_count": 6,
=======
>>>>>>> Stashed changes
      "outputs": [
        {
          "data": {
            "application/vnd.google.colaboratory.intrinsic+json": {
              "type": "string"
            },
            "text/plain": [
              "'cuda'"
            ]
          },
          "execution_count": 6,
          "metadata": {},
          "output_type": "execute_result"
        }
      ],
      "source": [
        "device = \"cuda\" if torch.cuda.is_available() else \"cpu\"\n",
        "device"
      ]
    },
    {
      "cell_type": "code",
      "execution_count": null,
      "metadata": {
        "colab": {
          "base_uri": "https://localhost:8080/"
        },
        "id": "M5lU73cPvSEN",
        "outputId": "a8a9267f-2fb5-4046-e0a4-133466e38d91"
      },
<<<<<<< Updated upstream
      "execution_count": 7,
=======
>>>>>>> Stashed changes
      "outputs": [
        {
          "name": "stdout",
          "output_type": "stream",
          "text": [
            "Using Device: cuda\n"
          ]
        }
      ],
      "source": [
        "print(f\"Using Device: {device}\")"
      ]
    },
    {
      "cell_type": "markdown",
      "metadata": {
        "id": "JhVAUZHbvcft"
      },
      "source": [
        "## 3. Set the seed"
      ]
    },
    {
      "cell_type": "code",
      "execution_count": null,
      "metadata": {
        "id": "egDo6iVdvm98"
      },
      "outputs": [],
      "source": [
        "torch.manual_seed(42)\n",
        "torch.cuda.manual_seed(42)\n",
        "random.seed(42)"
<<<<<<< Updated upstream
      ],
      "metadata": {
        "id": "egDo6iVdvm98"
      },
      "execution_count": 8,
      "outputs": []
=======
      ]
>>>>>>> Stashed changes
    },
    {
      "cell_type": "markdown",
      "metadata": {
        "id": "wIoujqVzv3y3"
      },
      "source": [
        "## 4. Setting the hyperparameters"
      ]
    },
    {
      "cell_type": "code",
      "execution_count": null,
      "metadata": {
        "id": "XP4svvtYwECM"
      },
      "outputs": [],
      "source": [
        "BATCH_SIZE = 128\n",
        "EPOCHS = 30 # Try increasing epochs to 30\n",
        "LEARNING_RATE = 3e-4\n",
        "PATCH_SIZE = 4\n",
        "NUM_CLASSES = 10\n",
        "IMAGE_SIZE = 32 # Transform the image and make the size go to 224\n",
        "CHANNELS = 3\n",
        "EMBED_DIM = 256\n",
        "NUM_HEADS = 8 # Increase the number of heads\n",
        "DEPTH = 6\n",
        "MLP_DIM = 512\n",
        "DROP_RATE = 0.1"
<<<<<<< Updated upstream
      ],
      "metadata": {
        "id": "XP4svvtYwECM"
      },
      "execution_count": 120,
      "outputs": []
=======
      ]
>>>>>>> Stashed changes
    },
    {
      "cell_type": "markdown",
      "metadata": {
        "id": "K1um0WVTxTVv"
      },
      "source": [
        "## 5. Define Image Transformations"
      ]
    },
    {
      "cell_type": "code",
      "execution_count": null,
      "metadata": {
        "id": "dbv82y5DxeFG"
      },
      "outputs": [],
      "source": [
        "# transform = transforms.Compose([\n",
        "#     transforms.ToTensor(),\n",
        "#     transforms.Normalize((0.5), (0.5))\n",
        "#     # 1. Helps the model to converge faster\n",
        "#     # 2. Helps to make the numerical computations stable\n",
        "# ])\n",
        "\n",
        "transform_train = transforms.Compose([\n",
        "    transforms.RandomCrop(32, padding=4),\n",
        "    transforms.RandomHorizontalFlip(),\n",
        "    transforms.ColorJitter(brightness=0.2, contrast=0.2, saturation=0.2, hue=0.2),\n",
        "    transforms.ToTensor(),\n",
        "    transforms.Normalize((0.5), (0.5))\n",
<<<<<<< Updated upstream
        "])\n",
        "\n",
        "# transform_train = transforms.Compose([\n",
        "#     transforms.Resize((224, 224)),  # Resize to 224×224\n",
        "#     transforms.RandomCrop(224, padding=4),\n",
        "#     transforms.RandomHorizontalFlip(),\n",
        "#     transforms.ColorJitter(brightness=0.2, contrast=0.2, saturation=0.2, hue=0.2),\n",
        "#     transforms.ToTensor(),\n",
        "#     transforms.Normalize((0.5, 0.5, 0.5), (0.5, 0.5, 0.5))  # For 3 channels\n",
        "# ])\n",
        "\n",
        "# transform_test = transforms.Compose([\n",
        "#     transforms.Resize((224, 224)),  # Resize to 224×224\n",
        "#     transforms.ToTensor(),\n",
        "#     transforms.Normalize((0.5, 0.5, 0.5), (0.5, 0.5, 0.5))  # For 3 channels\n",
        "# ])"
      ],
      "metadata": {
        "id": "dbv82y5DxeFG"
      },
      "execution_count": 121,
      "outputs": []
=======
        "])"
      ]
>>>>>>> Stashed changes
    },
    {
      "cell_type": "markdown",
      "metadata": {
        "id": "Ztis4GVDyM0I"
      },
      "source": [
        "## 6. Getting a dataset"
      ]
    },
    {
      "cell_type": "code",
      "execution_count": null,
      "metadata": {
        "colab": {
          "base_uri": "https://localhost:8080/"
        },
        "id": "wmDFHXPnycOF",
        "outputId": "36e09626-713e-4226-8228-966bb15800d4"
      },
      "outputs": [
        {
          "name": "stderr",
          "output_type": "stream",
          "text": [
            "100%|██████████| 170M/170M [00:13<00:00, 12.8MB/s]\n"
          ]
        }
      ],
      "source": [
        "  train_dataset = datasets.CIFAR10(root=\"data\",\n",
        "                                   train=True,\n",
        "                                   download=True,\n",
        "                                   transform=transform_train)"
<<<<<<< Updated upstream
      ],
      "metadata": {
        "id": "wmDFHXPnycOF"
      },
      "execution_count": 122,
      "outputs": []
=======
      ]
>>>>>>> Stashed changes
    },
    {
      "cell_type": "code",
      "execution_count": null,
      "metadata": {
        "id": "u441aLFkzTrf"
      },
      "outputs": [],
      "source": [
        "test_dataset = datasets.CIFAR10(root=\"data\",\n",
        "                                train=False,\n",
        "                                download=True,\n",
        "                                transform=transform_train)"
<<<<<<< Updated upstream
      ],
      "metadata": {
        "id": "u441aLFkzTrf"
      },
      "execution_count": 148,
      "outputs": []
=======
      ]
>>>>>>> Stashed changes
    },
    {
      "cell_type": "code",
      "execution_count": null,
      "metadata": {
        "colab": {
          "base_uri": "https://localhost:8080/"
        },
        "id": "LzWWfeMAzx14",
        "outputId": "2ce912b1-8ea9-4e23-fdc1-2e11ce67814e"
      },
<<<<<<< Updated upstream
      "execution_count": 149,
=======
>>>>>>> Stashed changes
      "outputs": [
        {
          "data": {
            "text/plain": [
              "Dataset CIFAR10\n",
              "    Number of datapoints: 50000\n",
              "    Root location: data\n",
              "    Split: Train\n",
              "    StandardTransform\n",
              "Transform: Compose(\n",
              "               RandomCrop(size=(32, 32), padding=4)\n",
              "               RandomHorizontalFlip(p=0.5)\n",
              "               ColorJitter(brightness=(0.8, 1.2), contrast=(0.8, 1.2), saturation=(0.8, 1.2), hue=(-0.2, 0.2))\n",
              "               ToTensor()\n",
              "               Normalize(mean=0.5, std=0.5)\n",
              "           )"
            ]
          },
          "execution_count": 14,
          "metadata": {},
<<<<<<< Updated upstream
          "execution_count": 149
=======
          "output_type": "execute_result"
>>>>>>> Stashed changes
        }
      ],
      "source": [
        "train_dataset"
      ]
    },
    {
      "cell_type": "code",
      "execution_count": null,
      "metadata": {
        "colab": {
          "base_uri": "https://localhost:8080/"
        },
        "id": "aRvO8pOUz575",
        "outputId": "4263e178-e9e9-425a-d4b3-3e0716ebbb9c"
      },
<<<<<<< Updated upstream
      "execution_count": 150,
=======
>>>>>>> Stashed changes
      "outputs": [
        {
          "data": {
            "text/plain": [
              "Dataset CIFAR10\n",
              "    Number of datapoints: 10000\n",
              "    Root location: data\n",
              "    Split: Test\n",
              "    StandardTransform\n",
              "Transform: Compose(\n",
              "               RandomCrop(size=(32, 32), padding=4)\n",
              "               RandomHorizontalFlip(p=0.5)\n",
              "               ColorJitter(brightness=(0.8, 1.2), contrast=(0.8, 1.2), saturation=(0.8, 1.2), hue=(-0.2, 0.2))\n",
              "               ToTensor()\n",
              "               Normalize(mean=0.5, std=0.5)\n",
              "           )"
            ]
          },
          "execution_count": 15,
          "metadata": {},
<<<<<<< Updated upstream
          "execution_count": 150
=======
          "output_type": "execute_result"
>>>>>>> Stashed changes
        }
      ],
      "source": [
        "test_dataset"
      ]
    },
    {
      "cell_type": "code",
      "execution_count": null,
      "metadata": {
        "colab": {
          "base_uri": "https://localhost:8080/"
        },
        "id": "eyNzonCQ0Izs",
        "outputId": "c4486aa0-20ac-44fc-d4c9-ea0ebbc2a490"
      },
<<<<<<< Updated upstream
      "execution_count": 151,
=======
>>>>>>> Stashed changes
      "outputs": [
        {
          "data": {
            "text/plain": [
              "50000"
            ]
          },
          "execution_count": 16,
          "metadata": {},
<<<<<<< Updated upstream
          "execution_count": 151
=======
          "output_type": "execute_result"
>>>>>>> Stashed changes
        }
      ],
      "source": [
        "len(train_dataset)"
      ]
    },
    {
      "cell_type": "code",
      "execution_count": null,
      "metadata": {
        "colab": {
          "base_uri": "https://localhost:8080/"
        },
        "id": "Ie8pWg8c0Py2",
        "outputId": "c992d0f4-35a4-42f3-f9bd-13aee0e4ca7d"
      },
<<<<<<< Updated upstream
      "execution_count": 152,
=======
>>>>>>> Stashed changes
      "outputs": [
        {
          "data": {
            "text/plain": [
              "10000"
            ]
          },
          "execution_count": 17,
          "metadata": {},
<<<<<<< Updated upstream
          "execution_count": 152
=======
          "output_type": "execute_result"
>>>>>>> Stashed changes
        }
      ],
      "source": [
        "len(test_dataset)"
      ]
    },
    {
      "cell_type": "markdown",
      "metadata": {
        "id": "jOObNz5v0R_N"
      },
      "source": [
        "## 7. Converting our datasets into dataloaders\n",
        "\n",
        "Right now, our data is in the form of PyTorch Datasets\n",
        "\n",
        "Dataloader turns our data into batches (or mini-batches)\n",
        "\n",
        "Why would we do this?\n",
        "\n",
        "1. It is more computationally efficient, as in, your computer hardware may not be able to look (store in memory) at 50000 images at one hit.So we break it into 128 images at a time. (batch size of 128)\n",
        "2. It gives our neural network more chances to update its gradient per epoch."
      ]
    },
    {
      "cell_type": "code",
      "execution_count": null,
      "metadata": {
        "id": "scAuknu00ecc"
      },
      "outputs": [],
      "source": [
        "train_loader = DataLoader(dataset=train_dataset,\n",
        "                          batch_size=BATCH_SIZE,\n",
        "                          shuffle=True)\n",
        "\n",
        "test_loader = DataLoader(dataset=test_dataset,\n",
        "                         batch_size=BATCH_SIZE,\n",
        "                         shuffle=True)"
<<<<<<< Updated upstream
      ],
      "metadata": {
        "id": "scAuknu00ecc"
      },
      "execution_count": 153,
      "outputs": []
=======
      ]
>>>>>>> Stashed changes
    },
    {
      "cell_type": "code",
      "execution_count": null,
      "metadata": {
        "colab": {
          "base_uri": "https://localhost:8080/"
        },
        "id": "QLQHo3TvRv8I",
        "outputId": "46399a61-43b2-4dbd-b445-d361a1afa00f"
      },
<<<<<<< Updated upstream
      "execution_count": 154,
=======
>>>>>>> Stashed changes
      "outputs": [
        {
          "name": "stdout",
          "output_type": "stream",
          "text": [
            "DataLoader: (<torch.utils.data.dataloader.DataLoader object at 0x78afe8d16e70>, <torch.utils.data.dataloader.DataLoader object at 0x78aff40e5040>)\n",
            "Length of train_loader: 391 batches of 128...\n",
            "Length of test_loader: 79 batches of 128...\n"
          ]
        }
      ],
      "source": [
        "# Let's check out what we've created\n",
        "print(f\"DataLoader: {train_loader, test_loader}\")\n",
        "print(f\"Length of train_loader: {len(train_loader)} batches of {BATCH_SIZE}...\")\n",
        "print(f\"Length of test_loader: {len(test_loader)} batches of {BATCH_SIZE}...\")"
      ]
    },
    {
      "cell_type": "code",
      "execution_count": null,
      "metadata": {
        "colab": {
          "base_uri": "https://localhost:8080/"
        },
        "id": "G8yITfD3SrhJ",
        "outputId": "7e60edbb-866b-4f08-b3b2-3ef11dd8152a"
      },
<<<<<<< Updated upstream
      "execution_count": 155,
=======
>>>>>>> Stashed changes
      "outputs": [
        {
          "data": {
            "text/plain": [
              "50048"
            ]
          },
          "execution_count": 20,
          "metadata": {},
<<<<<<< Updated upstream
          "execution_count": 155
=======
          "output_type": "execute_result"
>>>>>>> Stashed changes
        }
      ],
      "source": [
        "128 * 391"
      ]
    },
    {
      "cell_type": "code",
      "execution_count": null,
      "metadata": {
        "colab": {
          "base_uri": "https://localhost:8080/"
        },
        "id": "6UEJdQC5TSMR",
        "outputId": "3b87c637-f528-494c-a4c2-b53b46a09239"
      },
<<<<<<< Updated upstream
      "execution_count": 156,
=======
>>>>>>> Stashed changes
      "outputs": [
        {
          "data": {
            "text/plain": [
              "390.625"
            ]
          },
          "execution_count": 21,
          "metadata": {},
<<<<<<< Updated upstream
          "execution_count": 156
=======
          "output_type": "execute_result"
>>>>>>> Stashed changes
        }
      ],
      "source": [
        "50000 / 128"
      ]
    },
    {
      "cell_type": "markdown",
      "metadata": {
        "id": "enHtyyXQTfhm"
      },
      "source": [
        "## 8. Building Vision Transformer Model From Scratch"
      ]
    },
    {
      "cell_type": "code",
      "execution_count": null,
      "metadata": {
        "id": "VkKzkTGJTzzn"
      },
      "outputs": [],
      "source": [
        "class PatchEmbedding(nn.Module):\n",
        "  def __init__(self,\n",
        "               img_size,\n",
        "               patch_size,\n",
        "               in_channels,\n",
        "               embed_dim):\n",
        "    super().__init__()\n",
        "    self.patch_size = patch_size\n",
        "    self.proj = nn.Conv2d(in_channels=in_channels,\n",
        "                          out_channels=embed_dim,\n",
        "                          kernel_size=patch_size,\n",
        "                          stride=patch_size)\n",
        "    num_patches = (img_size // patch_size) ** 2;\n",
        "    self.cls_token = nn.Parameter(torch.randn(1, 1, embed_dim))\n",
        "    self.pos_embed = nn.Parameter(torch.randn(1, num_patches + 1, embed_dim))\n",
        "\n",
        "  def forward(self, x : torch.Tensor):\n",
        "    B = x.size(0)\n",
        "    x = self.proj(x) # (B, E, H/P, W/P)\n",
        "    x = x.flatten(2).transpose(1, 2) # (B, N, E)\n",
        "    cls_token = self.cls_token.expand(B, -1, -1)\n",
        "    x = torch.cat((cls_token, x), dim=1)\n",
        "    x = x + self.pos_embed\n",
        "    return x"
<<<<<<< Updated upstream
      ],
      "metadata": {
        "id": "VkKzkTGJTzzn"
      },
      "execution_count": 157,
      "outputs": []
=======
      ]
>>>>>>> Stashed changes
    },
    {
      "cell_type": "code",
      "execution_count": null,
      "metadata": {
        "colab": {
          "base_uri": "https://localhost:8080/"
        },
        "id": "mTac-lJthKDa",
        "outputId": "878168ba-2b56-4676-ee95-4f1cb865f294"
      },
<<<<<<< Updated upstream
      "execution_count": 158,
=======
>>>>>>> Stashed changes
      "outputs": [
        {
          "data": {
            "text/plain": [
              "<module 'torch.nn.functional' from '/usr/local/lib/python3.12/dist-packages/torch/nn/functional.py'>"
            ]
          },
          "execution_count": 23,
          "metadata": {},
<<<<<<< Updated upstream
          "execution_count": 158
=======
          "output_type": "execute_result"
>>>>>>> Stashed changes
        }
      ],
      "source": [
        "F"
      ]
    },
    {
      "cell_type": "code",
      "execution_count": null,
      "metadata": {
        "id": "ezhQjdTcizka"
      },
      "outputs": [],
      "source": [
        "class MLP(nn.Module):\n",
        "  def __init__(self,\n",
        "               in_features,\n",
        "               hidden_features,\n",
        "               drop_rate):\n",
        "    super().__init__()\n",
        "    self.fc1 = nn.Linear(in_features=in_features,\n",
        "                         out_features=hidden_features)\n",
        "    self.fc2 = nn.Linear(in_features=hidden_features,\n",
        "                         out_features=in_features)\n",
        "    self.dropout = nn.Dropout(drop_rate)\n",
        "\n",
        "  def forward(self, x):\n",
        "    x = self.dropout(F.gelu(self.fc1(x)))\n",
        "    x = self.dropout(self.fc2(x))\n",
        "    return x"
<<<<<<< Updated upstream
      ],
      "metadata": {
        "id": "ezhQjdTcizka"
      },
      "execution_count": 159,
      "outputs": []
=======
      ]
>>>>>>> Stashed changes
    },
    {
      "cell_type": "code",
      "execution_count": null,
      "metadata": {
        "id": "_ENw0QZdkdIC"
      },
      "outputs": [],
      "source": [
        "class TransformerEncoderLayer(nn.Module):\n",
        "  def __init__(self, embed_dim, num_heads, mlp_dim, drop_rate):\n",
        "    super().__init__()\n",
        "    self.norm1 = nn.LayerNorm(embed_dim)\n",
        "    self.attn = nn.MultiheadAttention(embed_dim, num_heads, dropout=drop_rate, batch_first=True)\n",
        "    self.norm2 = nn.LayerNorm(embed_dim)\n",
        "    self.mlp = MLP(embed_dim, mlp_dim, drop_rate)\n",
        "\n",
        "  def forward(self, x):\n",
        "    x = x + self.attn(self.norm1(x), self.norm1(x), self.norm1(x))[0]\n",
        "    x = x + self.mlp(self.norm2(x))\n",
        "    return x"
<<<<<<< Updated upstream
      ],
      "metadata": {
        "id": "_ENw0QZdkdIC"
      },
      "execution_count": 160,
      "outputs": []
=======
      ]
>>>>>>> Stashed changes
    },
    {
      "cell_type": "code",
      "execution_count": null,
      "metadata": {
        "id": "IYjiDUL6re3J"
      },
      "outputs": [],
      "source": [
        "class VisionTransformer(nn.Module):\n",
        "  def __init__(self, img_size, patch_size, in_channels, num_classes, embed_dim, depth, num_heads,  mlp_dim, drop_rate):\n",
        "    super().__init__()\n",
        "    self.patch_embed = PatchEmbedding(img_size=img_size, patch_size=patch_size, in_channels=in_channels, embed_dim=embed_dim)\n",
        "    self.encoder = nn.Sequential(*[\n",
        "        TransformerEncoderLayer(embed_dim, num_heads, mlp_dim, drop_rate)\n",
        "        for _ in range(depth)\n",
        "    ])\n",
        "    self.norm = nn.LayerNorm(embed_dim)\n",
        "    self.head = nn.Linear(embed_dim, num_classes)\n",
        "\n",
        "  def forward(self, x):\n",
        "    x = self.patch_embed(x)\n",
        "    x = self.encoder(x)\n",
        "    x = self.norm(x)\n",
        "    cls_token = x[:, 0]\n",
        "    return self.head(cls_token)"
<<<<<<< Updated upstream
      ],
      "metadata": {
        "id": "IYjiDUL6re3J"
      },
      "execution_count": 161,
      "outputs": []
=======
      ]
>>>>>>> Stashed changes
    },
    {
      "cell_type": "code",
      "execution_count": null,
      "metadata": {
        "id": "PKz9poNLvWzc"
      },
      "outputs": [],
      "source": [
        "# Instantiate the model\n",
        "model = VisionTransformer(\n",
        "    img_size=IMAGE_SIZE, patch_size=PATCH_SIZE, in_channels=CHANNELS, num_classes=NUM_CLASSES,\n",
        "    embed_dim=EMBED_DIM, depth=DEPTH, num_heads=NUM_HEADS, mlp_dim=MLP_DIM, drop_rate=DROP_RATE\n",
        ").to(device)"
<<<<<<< Updated upstream
      ],
      "metadata": {
        "id": "PKz9poNLvWzc"
      },
      "execution_count": 162,
      "outputs": []
=======
      ]
>>>>>>> Stashed changes
    },
    {
      "cell_type": "code",
      "execution_count": null,
      "metadata": {
        "colab": {
          "base_uri": "https://localhost:8080/"
        },
        "id": "cE0du-IDxbqo",
        "outputId": "52c474a6-6c32-42c0-ed1f-1abade9598e6"
      },
<<<<<<< Updated upstream
      "execution_count": 163,
=======
>>>>>>> Stashed changes
      "outputs": [
        {
          "data": {
            "text/plain": [
              "VisionTransformer(\n",
              "  (patch_embed): PatchEmbedding(\n",
              "    (proj): Conv2d(3, 256, kernel_size=(4, 4), stride=(4, 4))\n",
              "  )\n",
              "  (encoder): Sequential(\n",
              "    (0): TransformerEncoderLayer(\n",
              "      (norm1): LayerNorm((256,), eps=1e-05, elementwise_affine=True)\n",
              "      (attn): MultiheadAttention(\n",
              "        (out_proj): NonDynamicallyQuantizableLinear(in_features=256, out_features=256, bias=True)\n",
              "      )\n",
              "      (norm2): LayerNorm((256,), eps=1e-05, elementwise_affine=True)\n",
              "      (mlp): MLP(\n",
              "        (fc1): Linear(in_features=256, out_features=512, bias=True)\n",
              "        (fc2): Linear(in_features=512, out_features=256, bias=True)\n",
              "        (dropout): Dropout(p=0.1, inplace=False)\n",
              "      )\n",
              "    )\n",
              "    (1): TransformerEncoderLayer(\n",
              "      (norm1): LayerNorm((256,), eps=1e-05, elementwise_affine=True)\n",
              "      (attn): MultiheadAttention(\n",
              "        (out_proj): NonDynamicallyQuantizableLinear(in_features=256, out_features=256, bias=True)\n",
              "      )\n",
              "      (norm2): LayerNorm((256,), eps=1e-05, elementwise_affine=True)\n",
              "      (mlp): MLP(\n",
              "        (fc1): Linear(in_features=256, out_features=512, bias=True)\n",
              "        (fc2): Linear(in_features=512, out_features=256, bias=True)\n",
              "        (dropout): Dropout(p=0.1, inplace=False)\n",
              "      )\n",
              "    )\n",
              "    (2): TransformerEncoderLayer(\n",
              "      (norm1): LayerNorm((256,), eps=1e-05, elementwise_affine=True)\n",
              "      (attn): MultiheadAttention(\n",
              "        (out_proj): NonDynamicallyQuantizableLinear(in_features=256, out_features=256, bias=True)\n",
              "      )\n",
              "      (norm2): LayerNorm((256,), eps=1e-05, elementwise_affine=True)\n",
              "      (mlp): MLP(\n",
              "        (fc1): Linear(in_features=256, out_features=512, bias=True)\n",
              "        (fc2): Linear(in_features=512, out_features=256, bias=True)\n",
              "        (dropout): Dropout(p=0.1, inplace=False)\n",
              "      )\n",
              "    )\n",
              "    (3): TransformerEncoderLayer(\n",
              "      (norm1): LayerNorm((256,), eps=1e-05, elementwise_affine=True)\n",
              "      (attn): MultiheadAttention(\n",
              "        (out_proj): NonDynamicallyQuantizableLinear(in_features=256, out_features=256, bias=True)\n",
              "      )\n",
              "      (norm2): LayerNorm((256,), eps=1e-05, elementwise_affine=True)\n",
              "      (mlp): MLP(\n",
              "        (fc1): Linear(in_features=256, out_features=512, bias=True)\n",
              "        (fc2): Linear(in_features=512, out_features=256, bias=True)\n",
              "        (dropout): Dropout(p=0.1, inplace=False)\n",
              "      )\n",
              "    )\n",
              "    (4): TransformerEncoderLayer(\n",
              "      (norm1): LayerNorm((256,), eps=1e-05, elementwise_affine=True)\n",
              "      (attn): MultiheadAttention(\n",
              "        (out_proj): NonDynamicallyQuantizableLinear(in_features=256, out_features=256, bias=True)\n",
              "      )\n",
              "      (norm2): LayerNorm((256,), eps=1e-05, elementwise_affine=True)\n",
              "      (mlp): MLP(\n",
              "        (fc1): Linear(in_features=256, out_features=512, bias=True)\n",
              "        (fc2): Linear(in_features=512, out_features=256, bias=True)\n",
              "        (dropout): Dropout(p=0.1, inplace=False)\n",
              "      )\n",
              "    )\n",
              "    (5): TransformerEncoderLayer(\n",
              "      (norm1): LayerNorm((256,), eps=1e-05, elementwise_affine=True)\n",
              "      (attn): MultiheadAttention(\n",
              "        (out_proj): NonDynamicallyQuantizableLinear(in_features=256, out_features=256, bias=True)\n",
              "      )\n",
              "      (norm2): LayerNorm((256,), eps=1e-05, elementwise_affine=True)\n",
              "      (mlp): MLP(\n",
              "        (fc1): Linear(in_features=256, out_features=512, bias=True)\n",
              "        (fc2): Linear(in_features=512, out_features=256, bias=True)\n",
              "        (dropout): Dropout(p=0.1, inplace=False)\n",
              "      )\n",
              "    )\n",
              "  )\n",
              "  (norm): LayerNorm((256,), eps=1e-05, elementwise_affine=True)\n",
              "  (head): Linear(in_features=256, out_features=10, bias=True)\n",
              ")"
            ]
          },
          "execution_count": 28,
          "metadata": {},
<<<<<<< Updated upstream
          "execution_count": 163
=======
          "output_type": "execute_result"
>>>>>>> Stashed changes
        }
      ],
      "source": [
        "model"
      ]
    },
    {
      "cell_type": "markdown",
      "metadata": {
        "id": "iNlm4Gd9xmZL"
      },
      "source": [
        "## 9. Defining a Loss function and an optimizer"
      ]
    },
    {
      "cell_type": "code",
      "execution_count": null,
      "metadata": {
        "id": "MCzS2MHXyJ2h"
      },
      "outputs": [],
      "source": [
        "criterion = nn.CrossEntropyLoss() # Measure how wrong our model is\n",
        "optimizer = torch.optim.Adam(params=model.parameters(), # update our model's parameters to try and reduce the loss\n",
        "                             lr=LEARNING_RATE)"
<<<<<<< Updated upstream
      ],
      "metadata": {
        "id": "MCzS2MHXyJ2h"
      },
      "execution_count": 164,
      "outputs": []
=======
      ]
>>>>>>> Stashed changes
    },
    {
      "cell_type": "code",
      "execution_count": null,
      "metadata": {
        "colab": {
          "base_uri": "https://localhost:8080/"
        },
        "id": "__rYWdvR23xD",
        "outputId": "0f9a3e0d-a71a-41e7-d59e-915f3483fa3c"
      },
<<<<<<< Updated upstream
      "execution_count": 165,
=======
>>>>>>> Stashed changes
      "outputs": [
        {
          "data": {
            "text/plain": [
              "CrossEntropyLoss()"
            ]
          },
          "execution_count": 30,
          "metadata": {},
<<<<<<< Updated upstream
          "execution_count": 165
=======
          "output_type": "execute_result"
>>>>>>> Stashed changes
        }
      ],
      "source": [
        "criterion"
      ]
    },
    {
      "cell_type": "code",
      "execution_count": null,
      "metadata": {
        "colab": {
          "base_uri": "https://localhost:8080/"
        },
        "id": "W_wU1ZMA3MJ9",
        "outputId": "6634d369-2799-47c6-8fd3-d678e90387a1"
      },
<<<<<<< Updated upstream
      "execution_count": 166,
=======
>>>>>>> Stashed changes
      "outputs": [
        {
          "data": {
            "text/plain": [
              "Adam (\n",
              "Parameter Group 0\n",
              "    amsgrad: False\n",
              "    betas: (0.9, 0.999)\n",
              "    capturable: False\n",
              "    decoupled_weight_decay: False\n",
              "    differentiable: False\n",
              "    eps: 1e-08\n",
              "    foreach: None\n",
              "    fused: None\n",
              "    lr: 0.0003\n",
              "    maximize: False\n",
              "    weight_decay: 0\n",
              ")"
            ]
          },
          "execution_count": 31,
          "metadata": {},
<<<<<<< Updated upstream
          "execution_count": 166
=======
          "output_type": "execute_result"
>>>>>>> Stashed changes
        }
      ],
      "source": [
        "optimizer"
      ]
    },
    {
      "cell_type": "markdown",
      "metadata": {
        "id": "8EIgfCh13O1D"
      },
      "source": [
        "## 10. Defining a Training Loop function"
      ]
    },
    {
      "cell_type": "code",
      "execution_count": null,
      "metadata": {
        "id": "nslWCAZa3mZ7"
      },
      "outputs": [],
      "source": [
        "def train(model, loader, optimizer, criterion):\n",
        "  # Set the mode of the model into training\n",
        "  model.train()\n",
        "\n",
        "  total_loss, correct = 0, 0\n",
        "\n",
        "  for x, y in loader:\n",
        "    # Moving (Sending) our data into the target device\n",
        "    x, y = x.to(device), y.to(device)\n",
        "    optimizer.zero_grad()\n",
        "    # 1. Forward pass (model outputs raw logits)\n",
        "    out = model(x)\n",
        "    # 2. Calculate loss (per batch)\n",
        "    loss = criterion(out, y)\n",
        "    # 3. Perform backpropagation\n",
        "    loss.backward()\n",
        "    # 4. Perform Gradient Descent\n",
        "    optimizer.step()\n",
        "\n",
        "    total_loss += loss.item() * x.size(0)\n",
        "    correct += (out.argmax(1) == y).sum().item()\n",
        "  # You have to scale the loss (Normalization step to make the loss general across all batches)\n",
        "  return total_loss / len(loader.dataset), correct / len(loader.dataset)"
<<<<<<< Updated upstream
      ],
      "metadata": {
        "id": "nslWCAZa3mZ7"
      },
      "execution_count": 167,
      "outputs": []
=======
      ]
>>>>>>> Stashed changes
    },
    {
      "cell_type": "code",
      "execution_count": null,
      "metadata": {
        "id": "YL1h0HYw-egb"
      },
      "outputs": [],
      "source": [
        "def evaluate(model, loader):\n",
        "  model.eval() # Set the mode of the model into evaluation\n",
        "  correct = 0\n",
        "  with torch.inference_mode():\n",
        "    for x, y in loader:\n",
        "      x, y = x.to(device) , y.to(device)\n",
        "      out = model(x)\n",
        "      correct += (out.argmax(dim=1) == y).sum().item()\n",
        "    return correct / len(loader.dataset)"
<<<<<<< Updated upstream
      ],
      "metadata": {
        "id": "YL1h0HYw-egb"
      },
      "execution_count": 168,
      "outputs": []
=======
      ]
>>>>>>> Stashed changes
    },
    {
      "cell_type": "code",
      "execution_count": null,
      "metadata": {
        "colab": {
          "base_uri": "https://localhost:8080/"
        },
        "id": "rdXvMyG7AI4C",
        "outputId": "6a63d88c-abab-4485-dd67-9af551c7d915"
      },
<<<<<<< Updated upstream
      "execution_count": 169,
=======
>>>>>>> Stashed changes
      "outputs": [
        {
          "data": {
            "text/plain": [
              "30"
            ]
          },
          "execution_count": 34,
          "metadata": {},
<<<<<<< Updated upstream
          "execution_count": 169
=======
          "output_type": "execute_result"
>>>>>>> Stashed changes
        }
      ],
      "source": [
        "EPOCHS"
      ]
    },
    {
      "cell_type": "code",
      "execution_count": null,
      "metadata": {
        "id": "exmx6hb4AKUU"
      },
<<<<<<< Updated upstream
      "execution_count": 170,
      "outputs": []
=======
      "outputs": [],
      "source": [
        "from tqdm.auto import tqdm"
      ]
>>>>>>> Stashed changes
    },
    {
      "cell_type": "code",
      "execution_count": null,
      "metadata": {
        "colab": {
          "base_uri": "https://localhost:8080/",
          "height": 570,
          "referenced_widgets": [
            "3e2f03fcdf6247aa96a8e57d88ea7e03",
            "54736c0c92954618a5202e1af96d6045",
            "be06a302843949728db668602f3a9937",
            "e3f3d88ad72c4a4a8999701cfee673bb",
            "d29732c23e7443b19fb4aa75af08060b",
            "614a6a66a9c346bc9d764df010d5524d",
            "84a8830e104a41e3a3e24027df56164f",
            "43811552733644d2b78c609c383e8b55",
            "adc0afe4ef7144ebba6da7e17f51691b",
            "9b2cce2dfa0041d8bbc0ee716e3a65af",
            "5246ab6d6cf94cbe803fbf6cf2f452c7"
          ]
        },
        "id": "9ZKamwRjBL9c",
        "outputId": "1752e0cb-8b42-48c5-f425-29fae889dd5e"
      },
<<<<<<< Updated upstream
      "execution_count": 171,
=======
>>>>>>> Stashed changes
      "outputs": [
        {
          "data": {
            "application/vnd.jupyter.widget-view+json": {
              "model_id": "ddf45090fc39440d8d0d370c0c173eb8",
              "version_major": 2,
              "version_minor": 0
            },
            "text/plain": [
<<<<<<< Updated upstream
              "  0%|          | 0/30 [00:00<?, ?it/s]"
            ],
            "application/vnd.jupyter.widget-view+json": {
              "version_major": 2,
              "version_minor": 0,
              "model_id": "3e2f03fcdf6247aa96a8e57d88ea7e03"
            }
=======
              "  0%|          | 0/10 [00:00<?, ?it/s]"
            ]
>>>>>>> Stashed changes
          },
          "metadata": {},
          "output_type": "display_data"
        },
        {
          "name": "stdout",
          "output_type": "stream",
          "text": [
            "Epoch: 1 / 30, Train loss: 1.9455, Train acc: 0.2869, Test acc: 0.3567\n",
            "Epoch: 2 / 30, Train loss: 1.6788, Train acc: 0.3913, Test acc: 0.4262\n",
            "Epoch: 3 / 30, Train loss: 1.5693, Train acc: 0.4313, Test acc: 0.4669\n",
            "Epoch: 4 / 30, Train loss: 1.4844, Train acc: 0.4660, Test acc: 0.4719\n",
            "Epoch: 5 / 30, Train loss: 1.4292, Train acc: 0.4858, Test acc: 0.5067\n",
            "Epoch: 6 / 30, Train loss: 1.3671, Train acc: 0.5083, Test acc: 0.5229\n",
            "Epoch: 7 / 30, Train loss: 1.3269, Train acc: 0.5244, Test acc: 0.5331\n",
            "Epoch: 8 / 30, Train loss: 1.2777, Train acc: 0.5434, Test acc: 0.5530\n",
            "Epoch: 9 / 30, Train loss: 1.2317, Train acc: 0.5605, Test acc: 0.5723\n",
            "Epoch: 10 / 30, Train loss: 1.1946, Train acc: 0.5710, Test acc: 0.5776\n",
            "Epoch: 11 / 30, Train loss: 1.1591, Train acc: 0.5866, Test acc: 0.5885\n",
            "Epoch: 12 / 30, Train loss: 1.1256, Train acc: 0.5974, Test acc: 0.5968\n",
            "Epoch: 13 / 30, Train loss: 1.0908, Train acc: 0.6116, Test acc: 0.6083\n",
            "Epoch: 14 / 30, Train loss: 1.0680, Train acc: 0.6185, Test acc: 0.6335\n",
            "Epoch: 15 / 30, Train loss: 1.0385, Train acc: 0.6314, Test acc: 0.6361\n",
            "Epoch: 16 / 30, Train loss: 1.0109, Train acc: 0.6417, Test acc: 0.6271\n",
            "Epoch: 17 / 30, Train loss: 0.9813, Train acc: 0.6524, Test acc: 0.6472\n",
            "Epoch: 18 / 30, Train loss: 0.9612, Train acc: 0.6591, Test acc: 0.6586\n",
            "Epoch: 19 / 30, Train loss: 0.9387, Train acc: 0.6680, Test acc: 0.6667\n",
            "Epoch: 20 / 30, Train loss: 0.9166, Train acc: 0.6766, Test acc: 0.6755\n",
            "Epoch: 21 / 30, Train loss: 0.8922, Train acc: 0.6836, Test acc: 0.6779\n",
            "Epoch: 22 / 30, Train loss: 0.8635, Train acc: 0.6950, Test acc: 0.6811\n",
            "Epoch: 23 / 30, Train loss: 0.8446, Train acc: 0.6997, Test acc: 0.6877\n",
            "Epoch: 24 / 30, Train loss: 0.8235, Train acc: 0.7061, Test acc: 0.7007\n",
            "Epoch: 25 / 30, Train loss: 0.8026, Train acc: 0.7148, Test acc: 0.7078\n",
            "Epoch: 26 / 30, Train loss: 0.7841, Train acc: 0.7234, Test acc: 0.7109\n",
            "Epoch: 27 / 30, Train loss: 0.7668, Train acc: 0.7299, Test acc: 0.7160\n",
            "Epoch: 28 / 30, Train loss: 0.7510, Train acc: 0.7348, Test acc: 0.7203\n",
            "Epoch: 29 / 30, Train loss: 0.7406, Train acc: 0.7387, Test acc: 0.7303\n",
            "Epoch: 30 / 30, Train loss: 0.7164, Train acc: 0.7452, Test acc: 0.7198\n"
          ]
        }
      ],
      "source": [
        "### Training\n",
        "train_accuracies, test_accuracies = [], []\n",
        "\n",
        "for epoch in tqdm(range(EPOCHS)):\n",
        "  train_loss, train_acc = train(model, train_loader, optimizer, criterion)\n",
        "  test_acc = evaluate(model, test_loader)\n",
        "  train_accuracies.append(train_acc)\n",
        "  test_accuracies.append(test_acc)\n",
        "  print(f\"Epoch: {epoch + 1} / {EPOCHS}, Train loss: {train_loss:.4f}, Train acc: {train_acc:.4f}, Test acc: {test_acc:.4f}\")"
      ]
    },
    {
      "cell_type": "code",
      "execution_count": null,
      "metadata": {
        "colab": {
          "base_uri": "https://localhost:8080/",
          "height": 141
        },
<<<<<<< Updated upstream
        "outputId": "6d94b213-826f-440f-e5e3-497d0a28a007"
      },
      "execution_count": 1,
      "outputs": [
        {
          "output_type": "error",
          "ename": "NameError",
          "evalue": "name 'train_accuracies' is not defined",
          "traceback": [
            "\u001b[0;31m---------------------------------------------------------------------------\u001b[0m",
            "\u001b[0;31mNameError\u001b[0m                                 Traceback (most recent call last)",
            "\u001b[0;32m/tmp/ipython-input-516839210.py\u001b[0m in \u001b[0;36m<cell line: 0>\u001b[0;34m()\u001b[0m\n\u001b[0;32m----> 1\u001b[0;31m \u001b[0mtrain_accuracies\u001b[0m\u001b[0;34m\u001b[0m\u001b[0;34m\u001b[0m\u001b[0m\n\u001b[0m",
            "\u001b[0;31mNameError\u001b[0m: name 'train_accuracies' is not defined"
          ]
=======
        "id": "Vpd0k8yQCNVl",
        "outputId": "0b390e4c-4576-43c4-b5fc-b8e7ec791775"
      },
      "outputs": [
        {
          "data": {
            "text/plain": [
              "[0.28512,\n",
              " 0.39068,\n",
              " 0.43566,\n",
              " 0.4639,\n",
              " 0.49106,\n",
              " 0.50792,\n",
              " 0.52922,\n",
              " 0.54866,\n",
              " 0.56532,\n",
              " 0.57946]"
            ]
          },
          "execution_count": 37,
          "metadata": {},
          "output_type": "execute_result"
>>>>>>> Stashed changes
        }
      ],
      "source": [
        "train_accuracies"
      ]
    },
    {
      "cell_type": "code",
      "execution_count": null,
      "metadata": {
        "colab": {
          "base_uri": "https://localhost:8080/"
        },
        "id": "DfhQYbYYvjW8",
        "outputId": "c576d044-e85f-4766-a67d-95adbc48d2b4"
      },
      "outputs": [
        {
          "data": {
            "text/plain": [
              "[0.3789,\n",
              " 0.4475,\n",
              " 0.4823,\n",
              " 0.5071,\n",
              " 0.516,\n",
              " 0.5461,\n",
              " 0.5617,\n",
              " 0.5762,\n",
              " 0.5828,\n",
              " 0.5965,\n",
              " 0.6109,\n",
              " 0.6237,\n",
              " 0.6316,\n",
              " 0.6347,\n",
              " 0.6424,\n",
              " 0.6486,\n",
              " 0.6662,\n",
              " 0.6698,\n",
              " 0.6715,\n",
              " 0.6821,\n",
              " 0.6822,\n",
              " 0.6843,\n",
              " 0.6899,\n",
              " 0.7104,\n",
              " 0.7043,\n",
              " 0.7116,\n",
              " 0.7124,\n",
              " 0.7249,\n",
              " 0.7256,\n",
              " 0.7289]"
            ]
          },
          "execution_count": 38,
          "metadata": {},
<<<<<<< Updated upstream
          "execution_count": 47
=======
          "output_type": "execute_result"
>>>>>>> Stashed changes
        }
      ],
      "source": [
        "test_accuracies"
      ]
    },
    {
      "cell_type": "code",
      "execution_count": null,
      "metadata": {
        "colab": {
          "base_uri": "https://localhost:8080/",
          "height": 472
        },
        "id": "wLFzlFtavs6L",
        "outputId": "f97f465e-2885-489e-9c9f-c44f09cf95f4"
      },
      "outputs": [
        {
          "data": {
            "image/png": "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",
            "text/plain": [
              "<Figure size 640x480 with 1 Axes>"
            ]
          },
          "metadata": {},
          "output_type": "display_data"
        }
      ],
      "source": [
        "# Plot accuracy\n",
        "plt.plot(train_accuracies, label=\"Train Accuracy\")\n",
        "plt.plot(test_accuracies, label=\"Test Accuracy\")\n",
        "plt.xlabel(\"Epochs\")\n",
        "plt.ylabel(\"Accuracy\")\n",
        "plt.legend()\n",
        "plt.title(\"Training and Test Accuracy\")\n",
        "plt.show()"
<<<<<<< Updated upstream
      ],
      "metadata": {
        "colab": {
          "base_uri": "https://localhost:8080/",
          "height": 472
        },
        "id": "wLFzlFtavs6L",
        "outputId": "13b0ac90-9985-4fc0-a45b-04bfd46466af"
      },
      "execution_count": null,
      "outputs": [
        {
          "output_type": "display_data",
          "data": {
            "text/plain": [
              "<Figure size 640x480 with 1 Axes>"
            ],
            "image/png": "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\n"
          },
          "metadata": {}
        }
=======
>>>>>>> Stashed changes
      ]
    },
    {
      "cell_type": "code",
      "execution_count": null,
      "metadata": {
        "id": "yY1qZvwqwTc0"
      },
      "outputs": [],
      "source": [
        "import random"
      ]
    },
    {
      "cell_type": "code",
      "execution_count": null,
      "metadata": {
        "colab": {
          "base_uri": "https://localhost:8080/"
        },
        "id": "WNkYPvfywkz8",
        "outputId": "fbfdecfa-3c6a-4288-fd51-d7777f1b7ab2"
      },
      "outputs": [
        {
          "data": {
            "text/plain": [
              "(tensor([[[-0.8902, -0.8902, -0.8902,  ..., -0.8902, -0.8902, -0.8902],\n",
              "          [-0.8902, -0.8902, -0.0039,  ..., -0.0824, -0.0824, -0.1373],\n",
              "          [-0.8902, -0.8902, -0.0510,  ..., -0.0902, -0.1137, -0.1765],\n",
              "          ...,\n",
              "          [-0.8902, -0.8902, -0.3882,  ..., -0.2863, -0.4039, -0.5294],\n",
              "          [-0.8902, -0.8902, -0.2471,  ..., -0.2314, -0.3412, -0.4980],\n",
              "          [-0.8902, -0.8902, -0.2941,  ..., -0.0980, -0.3255, -0.5843]],\n",
              " \n",
              "         [[-0.8902, -0.8902, -0.8902,  ..., -0.8902, -0.8902, -0.8902],\n",
              "          [-0.8902, -0.8902,  0.2392,  ...,  0.1137,  0.1294,  0.0824],\n",
              "          [-0.8902, -0.8902,  0.1922,  ...,  0.1216,  0.1294,  0.0745],\n",
              "          ...,\n",
              "          [-0.8902, -0.8902, -0.5529,  ..., -0.4588, -0.5765, -0.6863],\n",
              "          [-0.8902, -0.8902, -0.4275,  ..., -0.3882, -0.5059, -0.6392],\n",
              "          [-0.8902, -0.8902, -0.4745,  ..., -0.2392, -0.4745, -0.7255]],\n",
              " \n",
              "         [[-0.8902, -0.8902, -0.8902,  ..., -0.8902, -0.8902, -0.8902],\n",
              "          [-0.8902, -0.8902, -0.6000,  ..., -0.6392, -0.6784, -0.6863],\n",
              "          [-0.8902, -0.8902, -0.5765,  ..., -0.6784, -0.7098, -0.7255],\n",
              "          ...,\n",
              "          [-0.8902, -0.8902,  0.3020,  ...,  0.4275,  0.3255,  0.1529],\n",
              "          [-0.8902, -0.8902,  0.4118,  ...,  0.4431,  0.3490,  0.1922],\n",
              "          [-0.8902, -0.8902,  0.3490,  ...,  0.4980,  0.3176,  0.0745]]]),\n",
              " 3)"
            ]
          },
          "execution_count": 41,
          "metadata": {},
<<<<<<< Updated upstream
          "execution_count": 50
=======
          "output_type": "execute_result"
>>>>>>> Stashed changes
        }
      ],
      "source": [
        "test_dataset[0]"
      ]
    },
    {
      "cell_type": "code",
      "execution_count": null,
      "metadata": {
        "colab": {
          "base_uri": "https://localhost:8080/"
        },
        "id": "_4yXN8voxYik",
        "outputId": "b6ed89e7-133b-4fee-b3e4-30854dc88bc1"
      },
      "outputs": [
        {
          "data": {
            "text/plain": [
              "torch.Size([3, 32, 32])"
            ]
          },
          "execution_count": 42,
          "metadata": {},
<<<<<<< Updated upstream
          "execution_count": 51
=======
          "output_type": "execute_result"
>>>>>>> Stashed changes
        }
      ],
      "source": [
        "test_dataset[0][0].shape"
      ]
    },
    {
      "cell_type": "code",
      "execution_count": null,
      "metadata": {
        "colab": {
          "base_uri": "https://localhost:8080/"
        },
        "id": "itTmWURsxgH0",
        "outputId": "af0fd3b9-80d2-4104-940e-8572b5e8320e"
      },
      "outputs": [
        {
          "data": {
            "text/plain": [
              "torch.Size([1, 3, 32, 32])"
            ]
          },
          "execution_count": 43,
          "metadata": {},
<<<<<<< Updated upstream
          "execution_count": 52
=======
          "output_type": "execute_result"
>>>>>>> Stashed changes
        }
      ],
      "source": [
        "test_dataset[0][0].unsqueeze(dim=0).shape"
      ]
    },
    {
      "cell_type": "code",
      "execution_count": null,
      "metadata": {
        "colab": {
          "base_uri": "https://localhost:8080/"
        },
        "id": "o0qsc59KyJS0",
        "outputId": "1b821c3b-9435-46f1-c304-e7d9ed63c02b"
      },
      "outputs": [
        {
          "data": {
            "text/plain": [
              "tensor([[[0.5843, 0.5686, 0.5922,  ..., 0.0000, 0.0000, 0.0000],\n",
              "         [0.5922, 0.5843, 0.6000,  ..., 0.0000, 0.0000, 0.0000],\n",
              "         [0.5843, 0.5961, 0.6039,  ..., 0.0000, 0.0000, 0.0000],\n",
              "         ...,\n",
              "         [0.1412, 0.1608, 0.1529,  ..., 0.0000, 0.0000, 0.0000],\n",
              "         [0.1490, 0.1569, 0.1647,  ..., 0.0000, 0.0000, 0.0000],\n",
              "         [0.1490, 0.1490, 0.1490,  ..., 0.0000, 0.0000, 0.0000]],\n",
              "\n",
              "        [[0.5176, 0.5137, 0.5333,  ..., 0.0000, 0.0000, 0.0000],\n",
              "         [0.5176, 0.5294, 0.5412,  ..., 0.0000, 0.0000, 0.0000],\n",
              "         [0.5059, 0.5333, 0.5412,  ..., 0.0000, 0.0000, 0.0000],\n",
              "         ...,\n",
              "         [0.2235, 0.2392, 0.2275,  ..., 0.0000, 0.0000, 0.0000],\n",
              "         [0.2353, 0.2510, 0.2431,  ..., 0.0000, 0.0000, 0.0000],\n",
              "         [0.2392, 0.2431, 0.2314,  ..., 0.0000, 0.0000, 0.0000]],\n",
              "\n",
              "        [[0.2039, 0.1882, 0.2118,  ..., 0.0000, 0.0000, 0.0000],\n",
              "         [0.2157, 0.1961, 0.2118,  ..., 0.0000, 0.0000, 0.0000],\n",
              "         [0.1922, 0.2000, 0.2078,  ..., 0.0000, 0.0000, 0.0000],\n",
              "         ...,\n",
              "         [0.4784, 0.4549, 0.3922,  ..., 0.0000, 0.0000, 0.0000],\n",
              "         [0.4824, 0.4627, 0.4353,  ..., 0.0000, 0.0000, 0.0000],\n",
              "         [0.4627, 0.4549, 0.4275,  ..., 0.0000, 0.0000, 0.0000]]])"
            ]
          },
          "execution_count": 44,
          "metadata": {},
<<<<<<< Updated upstream
          "execution_count": 53
=======
          "output_type": "execute_result"
>>>>>>> Stashed changes
        }
      ],
      "source": [
        "test_dataset[0][0] / 2 + 0.5"
      ]
    },
    {
      "cell_type": "code",
      "execution_count": null,
      "metadata": {
        "id": "JBpXGYhlyOwN"
      },
      "outputs": [],
      "source": [
        "def predict_and_plot_grid(model,\n",
        "                          dataset,\n",
        "                          classes,\n",
        "                          grid_size=3):\n",
        "  model.eval()\n",
        "  fig, axes = plt.subplots(grid_size, grid_size, figsize=(9,9))\n",
        "  for i in range(grid_size):\n",
        "    for j in range(grid_size):\n",
        "      idx = random.randint(0, len(dataset) - 1)\n",
        "      img, true_label = dataset[idx]\n",
        "      input_tensor = img.unsqueeze(dim=0).to(device)\n",
        "      with torch.inference_mode():\n",
        "        output = model(input_tensor)\n",
        "        _, predicted = torch.max(output.data, 1)\n",
        "      img = img / 2 + 0.5 # Unnormalize our images to be able to use them with matplotlib\n",
        "      npimg = img.cpu().numpy()\n",
        "      axes[i, j].imshow(np.transpose(npimg, (1, 2, 0)))\n",
        "      truth = classes[true_label] == classes[predicted.item()]\n",
        "      if truth:\n",
        "        color = \"g\"\n",
        "      else:\n",
        "        color = \"r\"\n",
        "      axes[i, j].set_title(f\"Truth: {classes[true_label]}\\n, Predicted: {classes[predicted.item()]}\", fontsize=10, c=color)\n",
        "      axes[i, j].axis(\"off\")\n",
        "  plt.tight_layout()\n",
        "  plt.show()"
      ]
    },
    {
      "cell_type": "code",
      "execution_count": null,
      "metadata": {
        "colab": {
          "base_uri": "https://localhost:8080/",
          "height": 906
        },
        "id": "WcHEZ3_D1OIO",
        "outputId": "c26c83da-0678-4ec0-b61c-7e59f9712396"
      },
      "outputs": [
        {
          "data": {
            "image/png": "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",
            "text/plain": [
              "<Figure size 900x900 with 9 Axes>"
<<<<<<< Updated upstream
            ],
            "image/png": "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\n"
=======
            ]
>>>>>>> Stashed changes
          },
          "metadata": {},
          "output_type": "display_data"
        }
      ],
      "source": [
        "predict_and_plot_grid(model, test_dataset, classes=train_dataset.classes, grid_size=3)"
      ]
    },
    {
      "cell_type": "code",
      "execution_count": null,
      "metadata": {
        "id": "tAufSWRT4xAA"
      },
      "outputs": [],
      "source": []
    }
<<<<<<< Updated upstream
  ]
=======
  ],
  "metadata": {
    "accelerator": "GPU",
    "colab": {
      "gpuType": "T4",
      "provenance": []
    },
    "kernelspec": {
      "display_name": "Python 3",
      "name": "python3"
    },
    "language_info": {
      "name": "python"
    },
    "widgets": {
      "application/vnd.jupyter.widget-state+json": {
        "14e13e1f1b2a47758e0e3ee03b141b03": {
          "model_module": "@jupyter-widgets/controls",
          "model_module_version": "1.5.0",
          "model_name": "ProgressStyleModel",
          "state": {
            "_model_module": "@jupyter-widgets/controls",
            "_model_module_version": "1.5.0",
            "_model_name": "ProgressStyleModel",
            "_view_count": null,
            "_view_module": "@jupyter-widgets/base",
            "_view_module_version": "1.2.0",
            "_view_name": "StyleView",
            "bar_color": null,
            "description_width": ""
          }
        },
        "48a0f7ec1e81469f93f61faef8c606b0": {
          "model_module": "@jupyter-widgets/base",
          "model_module_version": "1.2.0",
          "model_name": "LayoutModel",
          "state": {
            "_model_module": "@jupyter-widgets/base",
            "_model_module_version": "1.2.0",
            "_model_name": "LayoutModel",
            "_view_count": null,
            "_view_module": "@jupyter-widgets/base",
            "_view_module_version": "1.2.0",
            "_view_name": "LayoutView",
            "align_content": null,
            "align_items": null,
            "align_self": null,
            "border": null,
            "bottom": null,
            "display": null,
            "flex": null,
            "flex_flow": null,
            "grid_area": null,
            "grid_auto_columns": null,
            "grid_auto_flow": null,
            "grid_auto_rows": null,
            "grid_column": null,
            "grid_gap": null,
            "grid_row": null,
            "grid_template_areas": null,
            "grid_template_columns": null,
            "grid_template_rows": null,
            "height": null,
            "justify_content": null,
            "justify_items": null,
            "left": null,
            "margin": null,
            "max_height": null,
            "max_width": null,
            "min_height": null,
            "min_width": null,
            "object_fit": null,
            "object_position": null,
            "order": null,
            "overflow": null,
            "overflow_x": null,
            "overflow_y": null,
            "padding": null,
            "right": null,
            "top": null,
            "visibility": null,
            "width": null
          }
        },
        "6e1b2f108d33409bb46259391afc64bd": {
          "model_module": "@jupyter-widgets/controls",
          "model_module_version": "1.5.0",
          "model_name": "FloatProgressModel",
          "state": {
            "_dom_classes": [],
            "_model_module": "@jupyter-widgets/controls",
            "_model_module_version": "1.5.0",
            "_model_name": "FloatProgressModel",
            "_view_count": null,
            "_view_module": "@jupyter-widgets/controls",
            "_view_module_version": "1.5.0",
            "_view_name": "ProgressView",
            "bar_style": "success",
            "description": "",
            "description_tooltip": null,
            "layout": "IPY_MODEL_da4c391eca1d4c5fb8ce3068999f1232",
            "max": 10,
            "min": 0,
            "orientation": "horizontal",
            "style": "IPY_MODEL_14e13e1f1b2a47758e0e3ee03b141b03",
            "value": 10
          }
        },
        "6f0fa1937f1047fb9845bc2cb3281a9d": {
          "model_module": "@jupyter-widgets/base",
          "model_module_version": "1.2.0",
          "model_name": "LayoutModel",
          "state": {
            "_model_module": "@jupyter-widgets/base",
            "_model_module_version": "1.2.0",
            "_model_name": "LayoutModel",
            "_view_count": null,
            "_view_module": "@jupyter-widgets/base",
            "_view_module_version": "1.2.0",
            "_view_name": "LayoutView",
            "align_content": null,
            "align_items": null,
            "align_self": null,
            "border": null,
            "bottom": null,
            "display": null,
            "flex": null,
            "flex_flow": null,
            "grid_area": null,
            "grid_auto_columns": null,
            "grid_auto_flow": null,
            "grid_auto_rows": null,
            "grid_column": null,
            "grid_gap": null,
            "grid_row": null,
            "grid_template_areas": null,
            "grid_template_columns": null,
            "grid_template_rows": null,
            "height": null,
            "justify_content": null,
            "justify_items": null,
            "left": null,
            "margin": null,
            "max_height": null,
            "max_width": null,
            "min_height": null,
            "min_width": null,
            "object_fit": null,
            "object_position": null,
            "order": null,
            "overflow": null,
            "overflow_x": null,
            "overflow_y": null,
            "padding": null,
            "right": null,
            "top": null,
            "visibility": null,
            "width": null
          }
        },
        "7f93aa699667439ba916674579c4a988": {
          "model_module": "@jupyter-widgets/controls",
          "model_module_version": "1.5.0",
          "model_name": "DescriptionStyleModel",
          "state": {
            "_model_module": "@jupyter-widgets/controls",
            "_model_module_version": "1.5.0",
            "_model_name": "DescriptionStyleModel",
            "_view_count": null,
            "_view_module": "@jupyter-widgets/base",
            "_view_module_version": "1.2.0",
            "_view_name": "StyleView",
            "description_width": ""
          }
        },
        "bce9adebdab44df9b062ce403766ad2d": {
          "model_module": "@jupyter-widgets/controls",
          "model_module_version": "1.5.0",
          "model_name": "DescriptionStyleModel",
          "state": {
            "_model_module": "@jupyter-widgets/controls",
            "_model_module_version": "1.5.0",
            "_model_name": "DescriptionStyleModel",
            "_view_count": null,
            "_view_module": "@jupyter-widgets/base",
            "_view_module_version": "1.2.0",
            "_view_name": "StyleView",
            "description_width": ""
          }
        },
        "d240ab7a60ef4d33ac426274fdd3a018": {
          "model_module": "@jupyter-widgets/controls",
          "model_module_version": "1.5.0",
          "model_name": "HTMLModel",
          "state": {
            "_dom_classes": [],
            "_model_module": "@jupyter-widgets/controls",
            "_model_module_version": "1.5.0",
            "_model_name": "HTMLModel",
            "_view_count": null,
            "_view_module": "@jupyter-widgets/controls",
            "_view_module_version": "1.5.0",
            "_view_name": "HTMLView",
            "description": "",
            "description_tooltip": null,
            "layout": "IPY_MODEL_6f0fa1937f1047fb9845bc2cb3281a9d",
            "placeholder": "​",
            "style": "IPY_MODEL_bce9adebdab44df9b062ce403766ad2d",
            "value": " 10/10 [14:25&lt;00:00, 86.53s/it]"
          }
        },
        "d5a6bd98c31c49b187352eb232793d26": {
          "model_module": "@jupyter-widgets/base",
          "model_module_version": "1.2.0",
          "model_name": "LayoutModel",
          "state": {
            "_model_module": "@jupyter-widgets/base",
            "_model_module_version": "1.2.0",
            "_model_name": "LayoutModel",
            "_view_count": null,
            "_view_module": "@jupyter-widgets/base",
            "_view_module_version": "1.2.0",
            "_view_name": "LayoutView",
            "align_content": null,
            "align_items": null,
            "align_self": null,
            "border": null,
            "bottom": null,
            "display": null,
            "flex": null,
            "flex_flow": null,
            "grid_area": null,
            "grid_auto_columns": null,
            "grid_auto_flow": null,
            "grid_auto_rows": null,
            "grid_column": null,
            "grid_gap": null,
            "grid_row": null,
            "grid_template_areas": null,
            "grid_template_columns": null,
            "grid_template_rows": null,
            "height": null,
            "justify_content": null,
            "justify_items": null,
            "left": null,
            "margin": null,
            "max_height": null,
            "max_width": null,
            "min_height": null,
            "min_width": null,
            "object_fit": null,
            "object_position": null,
            "order": null,
            "overflow": null,
            "overflow_x": null,
            "overflow_y": null,
            "padding": null,
            "right": null,
            "top": null,
            "visibility": null,
            "width": null
          }
        },
        "da4c391eca1d4c5fb8ce3068999f1232": {
          "model_module": "@jupyter-widgets/base",
          "model_module_version": "1.2.0",
          "model_name": "LayoutModel",
          "state": {
            "_model_module": "@jupyter-widgets/base",
            "_model_module_version": "1.2.0",
            "_model_name": "LayoutModel",
            "_view_count": null,
            "_view_module": "@jupyter-widgets/base",
            "_view_module_version": "1.2.0",
            "_view_name": "LayoutView",
            "align_content": null,
            "align_items": null,
            "align_self": null,
            "border": null,
            "bottom": null,
            "display": null,
            "flex": null,
            "flex_flow": null,
            "grid_area": null,
            "grid_auto_columns": null,
            "grid_auto_flow": null,
            "grid_auto_rows": null,
            "grid_column": null,
            "grid_gap": null,
            "grid_row": null,
            "grid_template_areas": null,
            "grid_template_columns": null,
            "grid_template_rows": null,
            "height": null,
            "justify_content": null,
            "justify_items": null,
            "left": null,
            "margin": null,
            "max_height": null,
            "max_width": null,
            "min_height": null,
            "min_width": null,
            "object_fit": null,
            "object_position": null,
            "order": null,
            "overflow": null,
            "overflow_x": null,
            "overflow_y": null,
            "padding": null,
            "right": null,
            "top": null,
            "visibility": null,
            "width": null
          }
        },
        "ddf45090fc39440d8d0d370c0c173eb8": {
          "model_module": "@jupyter-widgets/controls",
          "model_module_version": "1.5.0",
          "model_name": "HBoxModel",
          "state": {
            "_dom_classes": [],
            "_model_module": "@jupyter-widgets/controls",
            "_model_module_version": "1.5.0",
            "_model_name": "HBoxModel",
            "_view_count": null,
            "_view_module": "@jupyter-widgets/controls",
            "_view_module_version": "1.5.0",
            "_view_name": "HBoxView",
            "box_style": "",
            "children": [
              "IPY_MODEL_eb25b6c85d2345c1b8d12886494b9119",
              "IPY_MODEL_6e1b2f108d33409bb46259391afc64bd",
              "IPY_MODEL_d240ab7a60ef4d33ac426274fdd3a018"
            ],
            "layout": "IPY_MODEL_48a0f7ec1e81469f93f61faef8c606b0"
          }
        },
        "eb25b6c85d2345c1b8d12886494b9119": {
          "model_module": "@jupyter-widgets/controls",
          "model_module_version": "1.5.0",
          "model_name": "HTMLModel",
          "state": {
            "_dom_classes": [],
            "_model_module": "@jupyter-widgets/controls",
            "_model_module_version": "1.5.0",
            "_model_name": "HTMLModel",
            "_view_count": null,
            "_view_module": "@jupyter-widgets/controls",
            "_view_module_version": "1.5.0",
            "_view_name": "HTMLView",
            "description": "",
            "description_tooltip": null,
            "layout": "IPY_MODEL_d5a6bd98c31c49b187352eb232793d26",
            "placeholder": "​",
            "style": "IPY_MODEL_7f93aa699667439ba916674579c4a988",
            "value": "100%"
          }
        }
      }
    }
  },
  "nbformat": 4,
  "nbformat_minor": 0
>>>>>>> Stashed changes
}
