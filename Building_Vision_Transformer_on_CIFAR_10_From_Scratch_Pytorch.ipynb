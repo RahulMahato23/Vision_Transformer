{
  "nbformat": 4,
  "nbformat_minor": 0,
  "metadata": {
    "colab": {
      "provenance": [],
      "include_colab_link": true
    },
    "kernelspec": {
      "name": "python3",
      "display_name": "Python 3"
    },
    "language_info": {
      "name": "python"
    },
  },
  "cells": [
    {
      "cell_type": "markdown",
      "metadata": {
        "id": "view-in-github",
        "colab_type": "text"
      },
      "source": [
        "<a href=\"https://colab.research.google.com/github/RahulMahato23/Vision_Transformer/blob/main/Building_Vision_Transformer_on_CIFAR_10_From_Scratch_Pytorch.ipynb\" target=\"_parent\"><img src=\"https://colab.research.google.com/assets/colab-badge.svg\" alt=\"Open In Colab\"/></a>"
      ]
    },
    {
      "cell_type": "markdown",
      "source": [
        "# Import required libraries"
      ],
      "metadata": {
        "id": "qiZtSiWqrACp"
      }
    },
    {
      "cell_type": "code",
      "source": [
        "import torch\n",
        "import torch.nn as nn\n",
        "import torch.nn.functional as F\n",
        "import torch.optim as optim\n",
        "import torchvision\n",
        "from torch.utils.data import DataLoader\n",
        "from torchvision import datasets, transforms\n",
        "import numpy as np\n",
        "import random\n",
        "import matplotlib.pyplot as plt"
      ],
      "metadata": {
        "id": "oIocKuxUsk48"
      },
      "execution_count": 1,
      "outputs": []
    },
    {
      "cell_type": "code",
      "source": [
        "torch.__version__"
      ],
      "metadata": {
        "colab": {
          "base_uri": "https://localhost:8080/",
          "height": 36
        },
        "id": "S_8aJ6ICtxsI",
        "outputId": "412ccd01-0a6f-4383-b178-cccebd468cce"
      },
      "execution_count": 2,
      "outputs": [
        {
          "output_type": "execute_result",
          "data": {
            "text/plain": [
              "'2.8.0+cu126'"
            ],
            "application/vnd.google.colaboratory.intrinsic+json": {
              "type": "string"
            }
          },
          "metadata": {},
          "execution_count": 2
        }
      ]
    },
    {
      "cell_type": "code",
      "source": [
        "torchvision.__version__"
      ],
      "metadata": {
        "colab": {
          "base_uri": "https://localhost:8080/",
          "height": 36
        },
        "id": "TzF0MsUGt89l",
        "outputId": "0609f86f-556b-46a9-8edc-832685952d47"
      },
      "execution_count": 3,
      "outputs": [
        {
          "output_type": "execute_result",
          "data": {
            "text/plain": [
              "'0.23.0+cu126'"
            ],
            "application/vnd.google.colaboratory.intrinsic+json": {
              "type": "string"
            }
          },
          "metadata": {},
          "execution_count": 3
        }
      ]
    },
    {
      "cell_type": "markdown",
      "source": [
        "## 2. Setup Device-agnostic Code"
      ],
      "metadata": {
        "id": "rD7cDrUEuN9N"
      }
    },
    {
      "cell_type": "code",
      "source": [
        "!nvidia-smi"
      ],
      "metadata": {
        "colab": {
          "base_uri": "https://localhost:8080/"
        },
        "id": "wT2nk6Bru5if",
        "outputId": "b1e274b8-5365-43b7-d32d-0cbd50e5639d"
      },
      "execution_count": 4,
      "outputs": [
        {
          "output_type": "stream",
          "name": "stdout",
          "text": [
            "Fri Sep  5 07:43:00 2025       \n",
            "+-----------------------------------------------------------------------------------------+\n",
            "| NVIDIA-SMI 550.54.15              Driver Version: 550.54.15      CUDA Version: 12.4     |\n",
            "|-----------------------------------------+------------------------+----------------------+\n",
            "| GPU  Name                 Persistence-M | Bus-Id          Disp.A | Volatile Uncorr. ECC |\n",
            "| Fan  Temp   Perf          Pwr:Usage/Cap |           Memory-Usage | GPU-Util  Compute M. |\n",
            "|                                         |                        |               MIG M. |\n",
            "|=========================================+========================+======================|\n",
            "|   0  Tesla T4                       Off |   00000000:00:04.0 Off |                    0 |\n",
            "| N/A   35C    P8              9W /   70W |       0MiB /  15360MiB |      0%      Default |\n",
            "|                                         |                        |                  N/A |\n",
            "+-----------------------------------------+------------------------+----------------------+\n",
            "                                                                                         \n",
            "+-----------------------------------------------------------------------------------------+\n",
            "| Processes:                                                                              |\n",
            "|  GPU   GI   CI        PID   Type   Process name                              GPU Memory |\n",
            "|        ID   ID                                                               Usage      |\n",
            "|=========================================================================================|\n",
            "|  No running processes found                                                             |\n",
            "+-----------------------------------------------------------------------------------------+\n"
          ]
        }
      ]
    },
    {
      "cell_type": "code",
      "source": [
        "torch.cuda.is_available()"
      ],
      "metadata": {
        "colab": {
          "base_uri": "https://localhost:8080/"
        },
        "id": "w1g-7jQOvIGl",
        "outputId": "a926103d-398a-4ac4-9c66-8fbafcb3c91e"
      },
      "execution_count": 5,
      "outputs": [
        {
          "output_type": "execute_result",
          "data": {
            "text/plain": [
              "True"
            ]
          },
          "metadata": {},
          "execution_count": 5
        }
      ]
    },
    {
      "cell_type": "code",
      "source": [
        "device = \"cuda\" if torch.cuda.is_available() else \"cpu\"\n",
        "device"
      ],
      "metadata": {
        "colab": {
          "base_uri": "https://localhost:8080/",
          "height": 36
        },
        "id": "J19ANOFRuhNb",
        "outputId": "7c456990-38af-4f9c-d5fa-682059478f60"
      },
      "execution_count": 6,
      "outputs": [
        {
          "output_type": "execute_result",
          "data": {
            "text/plain": [
              "'cuda'"
            ],
            "application/vnd.google.colaboratory.intrinsic+json": {
              "type": "string"
            }
          },
          "metadata": {},
          "execution_count": 6
        }
      ]
    },
    {
      "cell_type": "code",
      "source": [
        "print(f\"Using Device: {device}\")"
      ],
      "metadata": {
        "colab": {
          "base_uri": "https://localhost:8080/"
        },
        "id": "M5lU73cPvSEN",
        "outputId": "a8a9267f-2fb5-4046-e0a4-133466e38d91"
      },
      "execution_count": 7,
      "outputs": [
        {
          "output_type": "stream",
          "name": "stdout",
          "text": [
            "Using Device: cuda\n"
          ]
        }
      ]
    },
    {
      "cell_type": "markdown",
      "source": [
        "## 3. Set the seed"
      ],
      "metadata": {
        "id": "JhVAUZHbvcft"
      }
    },
    {
      "cell_type": "code",
      "source": [
        "torch.manual_seed(42)\n",
        "torch.cuda.manual_seed(42)\n",
        "random.seed(42)"
      ],
      "metadata": {
        "id": "egDo6iVdvm98"
      },
      "execution_count": 8,
      "outputs": []
    },
    {
      "cell_type": "markdown",
      "source": [
        "## 4. Setting the hyperparameters"
      ],
      "metadata": {
        "id": "wIoujqVzv3y3"
      }
    },
    {
      "cell_type": "code",
      "source": [
        "BATCH_SIZE = 128\n",
        "EPOCHS = 30 # Try increasing epochs to 30\n",
        "LEARNING_RATE = 3e-4\n",
        "PATCH_SIZE = 4\n",
        "NUM_CLASSES = 10\n",
        "IMAGE_SIZE = 32 # Transform the image and make the size go to 224\n",
        "CHANNELS = 3\n",
        "EMBED_DIM = 256\n",
        "NUM_HEADS = 8 # Increase the number of heads\n",
        "DEPTH = 6\n",
        "MLP_DIM = 512\n",
        "DROP_RATE = 0.1"
      ],
      "metadata": {
        "id": "XP4svvtYwECM"
      },
      "execution_count": 120,
      "outputs": []
    },
    {
      "cell_type": "markdown",
      "source": [
        "## 5. Define Image Transformations"
      ],
      "metadata": {
        "id": "K1um0WVTxTVv"
      }
    },
    {
      "cell_type": "code",
      "source": [
        "# transform = transforms.Compose([\n",
        "#     transforms.ToTensor(),\n",
        "#     transforms.Normalize((0.5), (0.5))\n",
        "#     # 1. Helps the model to converge faster\n",
        "#     # 2. Helps to make the numerical computations stable\n",
        "# ])\n",
        "\n",
        "transform_train = transforms.Compose([\n",
        "    transforms.RandomCrop(32, padding=4),\n",
        "    transforms.RandomHorizontalFlip(),\n",
        "    transforms.ColorJitter(brightness=0.2, contrast=0.2, saturation=0.2, hue=0.2),\n",
        "    transforms.ToTensor(),\n",
        "    transforms.Normalize((0.5), (0.5))\n",
        "])\n",
        "\n",
        "# transform_train = transforms.Compose([\n",
        "#     transforms.Resize((224, 224)),  # Resize to 224×224\n",
        "#     transforms.RandomCrop(224, padding=4),\n",
        "#     transforms.RandomHorizontalFlip(),\n",
        "#     transforms.ColorJitter(brightness=0.2, contrast=0.2, saturation=0.2, hue=0.2),\n",
        "#     transforms.ToTensor(),\n",
        "#     transforms.Normalize((0.5, 0.5, 0.5), (0.5, 0.5, 0.5))  # For 3 channels\n",
        "# ])\n",
        "\n",
        "# transform_test = transforms.Compose([\n",
        "#     transforms.Resize((224, 224)),  # Resize to 224×224\n",
        "#     transforms.ToTensor(),\n",
        "#     transforms.Normalize((0.5, 0.5, 0.5), (0.5, 0.5, 0.5))  # For 3 channels\n",
        "# ])"
      ],
      "metadata": {
        "id": "dbv82y5DxeFG"
      },
      "execution_count": 121,
      "outputs": []
    },
    {
      "cell_type": "markdown",
      "source": [
        "## 6. Getting a dataset"
      ],
      "metadata": {
        "id": "Ztis4GVDyM0I"
      }
    },
    {
      "cell_type": "code",
      "source": [
        "  train_dataset = datasets.CIFAR10(root=\"data\",\n",
        "                                   train=True,\n",
        "                                   download=True,\n",
        "                                   transform=transform_train)"
      ],
      "metadata": {
        "id": "wmDFHXPnycOF"
      },
      "execution_count": 122,
      "outputs": []
    },
    {
      "cell_type": "code",
      "source": [
        "test_dataset = datasets.CIFAR10(root=\"data\",\n",
        "                                train=False,\n",
        "                                download=True,\n",
        "                                transform=transform_train)"
      ],
      "metadata": {
        "id": "u441aLFkzTrf"
      },
      "execution_count": 148,
      "outputs": []
    },
    {
      "cell_type": "code",
      "source": [
        "train_dataset"
      ],
      "metadata": {
        "colab": {
          "base_uri": "https://localhost:8080/"
        },
        "id": "LzWWfeMAzx14",
        "outputId": "2ce912b1-8ea9-4e23-fdc1-2e11ce67814e"
      },
      "execution_count": 149,
      "outputs": [
        {
          "output_type": "execute_result",
          "data": {
            "text/plain": [
              "Dataset CIFAR10\n",
              "    Number of datapoints: 50000\n",
              "    Root location: data\n",
              "    Split: Train\n",
              "    StandardTransform\n",
              "Transform: Compose(\n",
              "               RandomCrop(size=(32, 32), padding=4)\n",
              "               RandomHorizontalFlip(p=0.5)\n",
              "               ColorJitter(brightness=(0.8, 1.2), contrast=(0.8, 1.2), saturation=(0.8, 1.2), hue=(-0.2, 0.2))\n",
              "               ToTensor()\n",
              "               Normalize(mean=0.5, std=0.5)\n",
              "           )"
            ]
          },
          "metadata": {},
          "execution_count": 149
        }
      ]
    },
    {
      "cell_type": "code",
      "source": [
        "test_dataset"
      ],
      "metadata": {
        "colab": {
          "base_uri": "https://localhost:8080/"
        },
        "id": "aRvO8pOUz575",
        "outputId": "4263e178-e9e9-425a-d4b3-3e0716ebbb9c"
      },
      "execution_count": 150,
      "outputs": [
        {
          "output_type": "execute_result",
          "data": {
            "text/plain": [
              "Dataset CIFAR10\n",
              "    Number of datapoints: 10000\n",
              "    Root location: data\n",
              "    Split: Test\n",
              "    StandardTransform\n",
              "Transform: Compose(\n",
              "               RandomCrop(size=(32, 32), padding=4)\n",
              "               RandomHorizontalFlip(p=0.5)\n",
              "               ColorJitter(brightness=(0.8, 1.2), contrast=(0.8, 1.2), saturation=(0.8, 1.2), hue=(-0.2, 0.2))\n",
              "               ToTensor()\n",
              "               Normalize(mean=0.5, std=0.5)\n",
              "           )"
            ]
          },
          "metadata": {},
          "execution_count": 150
        }
      ]
    },
    {
      "cell_type": "code",
      "source": [
        "len(train_dataset)"
      ],
      "metadata": {
        "colab": {
          "base_uri": "https://localhost:8080/"
        },
        "id": "eyNzonCQ0Izs",
        "outputId": "c4486aa0-20ac-44fc-d4c9-ea0ebbc2a490"
      },
      "execution_count": 151,
      "outputs": [
        {
          "output_type": "execute_result",
          "data": {
            "text/plain": [
              "50000"
            ]
          },
          "metadata": {},
          "execution_count": 151
        }
      ]
    },
    {
      "cell_type": "code",
      "source": [
        "len(test_dataset)"
      ],
      "metadata": {
        "colab": {
          "base_uri": "https://localhost:8080/"
        },
        "id": "Ie8pWg8c0Py2",
        "outputId": "c992d0f4-35a4-42f3-f9bd-13aee0e4ca7d"
      },
      "execution_count": 152,
      "outputs": [
        {
          "output_type": "execute_result",
          "data": {
            "text/plain": [
              "10000"
            ]
          },
          "metadata": {},
          "execution_count": 152
        }
      ]
    },
    {
      "cell_type": "markdown",
      "source": [
        "## 7. Converting our datasets into dataloaders\n",
        "\n",
        "Right now, our data is in the form of PyTorch Datasets\n",
        "\n",
        "Dataloader turns our data into batches (or mini-batches)\n",
        "\n",
        "Why would we do this?\n",
        "\n",
        "1. It is more computationally efficient, as in, your computer hardware may not be able to look (store in memory) at 50000 images at one hit.So we break it into 128 images at a time. (batch size of 128)\n",
        "2. It gives our neural network more chances to update its gradient per epoch."
      ],
      "metadata": {
        "id": "jOObNz5v0R_N"
      }
    },
    {
      "cell_type": "code",
      "source": [
        "train_loader = DataLoader(dataset=train_dataset,\n",
        "                          batch_size=BATCH_SIZE,\n",
        "                          shuffle=True)\n",
        "\n",
        "test_loader = DataLoader(dataset=test_dataset,\n",
        "                         batch_size=BATCH_SIZE,\n",
        "                         shuffle=True)"
      ],
      "metadata": {
        "id": "scAuknu00ecc"
      },
      "execution_count": 153,
      "outputs": []
    },
    {
      "cell_type": "code",
      "source": [
        "# Let's check out what we've created\n",
        "print(f\"DataLoader: {train_loader, test_loader}\")\n",
        "print(f\"Length of train_loader: {len(train_loader)} batches of {BATCH_SIZE}...\")\n",
        "print(f\"Length of test_loader: {len(test_loader)} batches of {BATCH_SIZE}...\")"
      ],
      "metadata": {
        "colab": {
          "base_uri": "https://localhost:8080/"
        },
        "id": "QLQHo3TvRv8I",
        "outputId": "46399a61-43b2-4dbd-b445-d361a1afa00f"
      },
      "execution_count": 154,
      "outputs": [
        {
          "output_type": "stream",
          "name": "stdout",
          "text": [
            "DataLoader: (<torch.utils.data.dataloader.DataLoader object at 0x78afe8d16e70>, <torch.utils.data.dataloader.DataLoader object at 0x78aff40e5040>)\n",
            "Length of train_loader: 391 batches of 128...\n",
            "Length of test_loader: 79 batches of 128...\n"
          ]
        }
      ]
    },
    {
      "cell_type": "code",
      "source": [
        "128 * 391"
      ],
      "metadata": {
        "colab": {
          "base_uri": "https://localhost:8080/"
        },
        "id": "G8yITfD3SrhJ",
        "outputId": "7e60edbb-866b-4f08-b3b2-3ef11dd8152a"
      },
      "execution_count": 155,
      "outputs": [
        {
          "output_type": "execute_result",
          "data": {
            "text/plain": [
              "50048"
            ]
          },
          "metadata": {},
          "execution_count": 155
        }
      ]
    },
    {
      "cell_type": "code",
      "source": [
        "50000 / 128"
      ],
      "metadata": {
        "colab": {
          "base_uri": "https://localhost:8080/"
        },
        "id": "6UEJdQC5TSMR",
        "outputId": "3b87c637-f528-494c-a4c2-b53b46a09239"
      },
      "execution_count": 156,
      "outputs": [
        {
          "output_type": "execute_result",
          "data": {
            "text/plain": [
              "390.625"
            ]
          },
          "metadata": {},
          "execution_count": 156
        }
      ]
    },
    {
      "cell_type": "markdown",
      "source": [
        "## 8. Building Vision Transformer Model From Scratch"
      ],
      "metadata": {
        "id": "enHtyyXQTfhm"
      }
    },
    {
      "cell_type": "code",
      "source": [
        "class PatchEmbedding(nn.Module):\n",
        "  def __init__(self,\n",
        "               img_size,\n",
        "               patch_size,\n",
        "               in_channels,\n",
        "               embed_dim):\n",
        "    super().__init__()\n",
        "    self.patch_size = patch_size\n",
        "    self.proj = nn.Conv2d(in_channels=in_channels,\n",
        "                          out_channels=embed_dim,\n",
        "                          kernel_size=patch_size,\n",
        "                          stride=patch_size)\n",
        "    num_patches = (img_size // patch_size) ** 2;\n",
        "    self.cls_token = nn.Parameter(torch.randn(1, 1, embed_dim))\n",
        "    self.pos_embed = nn.Parameter(torch.randn(1, num_patches + 1, embed_dim))\n",
        "\n",
        "  def forward(self, x : torch.Tensor):\n",
        "    B = x.size(0)\n",
        "    x = self.proj(x) # (B, E, H/P, W/P)\n",
        "    x = x.flatten(2).transpose(1, 2) # (B, N, E)\n",
        "    cls_token = self.cls_token.expand(B, -1, -1)\n",
        "    x = torch.cat((cls_token, x), dim=1)\n",
        "    x = x + self.pos_embed\n",
        "    return x"
      ],
      "metadata": {
        "id": "VkKzkTGJTzzn"
      },
      "execution_count": 157,
      "outputs": []
    },
    {
      "cell_type": "code",
      "source": [
        "F"
      ],
      "metadata": {
        "colab": {
          "base_uri": "https://localhost:8080/"
        },
        "id": "mTac-lJthKDa",
        "outputId": "878168ba-2b56-4676-ee95-4f1cb865f294"
      },
      "execution_count": 158,
      "outputs": [
        {
          "output_type": "execute_result",
          "data": {
            "text/plain": [
              "<module 'torch.nn.functional' from '/usr/local/lib/python3.12/dist-packages/torch/nn/functional.py'>"
            ]
          },
          "metadata": {},
          "execution_count": 158
        }
      ]
    },
    {
      "cell_type": "code",
      "source": [
        "class MLP(nn.Module):\n",
        "  def __init__(self,\n",
        "               in_features,\n",
        "               hidden_features,\n",
        "               drop_rate):\n",
        "    super().__init__()\n",
        "    self.fc1 = nn.Linear(in_features=in_features,\n",
        "                         out_features=hidden_features)\n",
        "    self.fc2 = nn.Linear(in_features=hidden_features,\n",
        "                         out_features=in_features)\n",
        "    self.dropout = nn.Dropout(drop_rate)\n",
        "\n",
        "  def forward(self, x):\n",
        "    x = self.dropout(F.gelu(self.fc1(x)))\n",
        "    x = self.dropout(self.fc2(x))\n",
        "    return x"
      ],
      "metadata": {
        "id": "ezhQjdTcizka"
      },
      "execution_count": 159,
      "outputs": []
    },
    {
      "cell_type": "code",
      "source": [
        "class TransformerEncoderLayer(nn.Module):\n",
        "  def __init__(self, embed_dim, num_heads, mlp_dim, drop_rate):\n",
        "    super().__init__()\n",
        "    self.norm1 = nn.LayerNorm(embed_dim)\n",
        "    self.attn = nn.MultiheadAttention(embed_dim, num_heads, dropout=drop_rate, batch_first=True)\n",
        "    self.norm2 = nn.LayerNorm(embed_dim)\n",
        "    self.mlp = MLP(embed_dim, mlp_dim, drop_rate)\n",
        "\n",
        "  def forward(self, x):\n",
        "    x = x + self.attn(self.norm1(x), self.norm1(x), self.norm1(x))[0]\n",
        "    x = x + self.mlp(self.norm2(x))\n",
        "    return x"
      ],
      "metadata": {
        "id": "_ENw0QZdkdIC"
      },
      "execution_count": 160,
      "outputs": []
    },
    {
      "cell_type": "code",
      "source": [
        "class VisionTransformer(nn.Module):\n",
        "  def __init__(self, img_size, patch_size, in_channels, num_classes, embed_dim, depth, num_heads,  mlp_dim, drop_rate):\n",
        "    super().__init__()\n",
        "    self.patch_embed = PatchEmbedding(img_size=img_size, patch_size=patch_size, in_channels=in_channels, embed_dim=embed_dim)\n",
        "    self.encoder = nn.Sequential(*[\n",
        "        TransformerEncoderLayer(embed_dim, num_heads, mlp_dim, drop_rate)\n",
        "        for _ in range(depth)\n",
        "    ])\n",
        "    self.norm = nn.LayerNorm(embed_dim)\n",
        "    self.head = nn.Linear(embed_dim, num_classes)\n",
        "\n",
        "  def forward(self, x):\n",
        "    x = self.patch_embed(x)\n",
        "    x = self.encoder(x)\n",
        "    x = self.norm(x)\n",
        "    cls_token = x[:, 0]\n",
        "    return self.head(cls_token)"
      ],
      "metadata": {
        "id": "IYjiDUL6re3J"
      },
      "execution_count": 161,
      "outputs": []
    },
    {
      "cell_type": "code",
      "source": [
        "# Instantiate the model\n",
        "model = VisionTransformer(\n",
        "    img_size=IMAGE_SIZE, patch_size=PATCH_SIZE, in_channels=CHANNELS, num_classes=NUM_CLASSES,\n",
        "    embed_dim=EMBED_DIM, depth=DEPTH, num_heads=NUM_HEADS, mlp_dim=MLP_DIM, drop_rate=DROP_RATE\n",
        ").to(device)"
      ],
      "metadata": {
        "id": "PKz9poNLvWzc"
      },
      "execution_count": 162,
      "outputs": []
    },
    {
      "cell_type": "code",
      "source": [
        "model"
      ],
      "metadata": {
        "colab": {
          "base_uri": "https://localhost:8080/"
        },
        "id": "cE0du-IDxbqo",
        "outputId": "52c474a6-6c32-42c0-ed1f-1abade9598e6"
      },
      "execution_count": 163,
      "outputs": [
        {
          "output_type": "execute_result",
          "data": {
            "text/plain": [
              "VisionTransformer(\n",
              "  (patch_embed): PatchEmbedding(\n",
              "    (proj): Conv2d(3, 256, kernel_size=(4, 4), stride=(4, 4))\n",
              "  )\n",
              "  (encoder): Sequential(\n",
              "    (0): TransformerEncoderLayer(\n",
              "      (norm1): LayerNorm((256,), eps=1e-05, elementwise_affine=True)\n",
              "      (attn): MultiheadAttention(\n",
              "        (out_proj): NonDynamicallyQuantizableLinear(in_features=256, out_features=256, bias=True)\n",
              "      )\n",
              "      (norm2): LayerNorm((256,), eps=1e-05, elementwise_affine=True)\n",
              "      (mlp): MLP(\n",
              "        (fc1): Linear(in_features=256, out_features=512, bias=True)\n",
              "        (fc2): Linear(in_features=512, out_features=256, bias=True)\n",
              "        (dropout): Dropout(p=0.1, inplace=False)\n",
              "      )\n",
              "    )\n",
              "    (1): TransformerEncoderLayer(\n",
              "      (norm1): LayerNorm((256,), eps=1e-05, elementwise_affine=True)\n",
              "      (attn): MultiheadAttention(\n",
              "        (out_proj): NonDynamicallyQuantizableLinear(in_features=256, out_features=256, bias=True)\n",
              "      )\n",
              "      (norm2): LayerNorm((256,), eps=1e-05, elementwise_affine=True)\n",
              "      (mlp): MLP(\n",
              "        (fc1): Linear(in_features=256, out_features=512, bias=True)\n",
              "        (fc2): Linear(in_features=512, out_features=256, bias=True)\n",
              "        (dropout): Dropout(p=0.1, inplace=False)\n",
              "      )\n",
              "    )\n",
              "    (2): TransformerEncoderLayer(\n",
              "      (norm1): LayerNorm((256,), eps=1e-05, elementwise_affine=True)\n",
              "      (attn): MultiheadAttention(\n",
              "        (out_proj): NonDynamicallyQuantizableLinear(in_features=256, out_features=256, bias=True)\n",
              "      )\n",
              "      (norm2): LayerNorm((256,), eps=1e-05, elementwise_affine=True)\n",
              "      (mlp): MLP(\n",
              "        (fc1): Linear(in_features=256, out_features=512, bias=True)\n",
              "        (fc2): Linear(in_features=512, out_features=256, bias=True)\n",
              "        (dropout): Dropout(p=0.1, inplace=False)\n",
              "      )\n",
              "    )\n",
              "    (3): TransformerEncoderLayer(\n",
              "      (norm1): LayerNorm((256,), eps=1e-05, elementwise_affine=True)\n",
              "      (attn): MultiheadAttention(\n",
              "        (out_proj): NonDynamicallyQuantizableLinear(in_features=256, out_features=256, bias=True)\n",
              "      )\n",
              "      (norm2): LayerNorm((256,), eps=1e-05, elementwise_affine=True)\n",
              "      (mlp): MLP(\n",
              "        (fc1): Linear(in_features=256, out_features=512, bias=True)\n",
              "        (fc2): Linear(in_features=512, out_features=256, bias=True)\n",
              "        (dropout): Dropout(p=0.1, inplace=False)\n",
              "      )\n",
              "    )\n",
              "    (4): TransformerEncoderLayer(\n",
              "      (norm1): LayerNorm((256,), eps=1e-05, elementwise_affine=True)\n",
              "      (attn): MultiheadAttention(\n",
              "        (out_proj): NonDynamicallyQuantizableLinear(in_features=256, out_features=256, bias=True)\n",
              "      )\n",
              "      (norm2): LayerNorm((256,), eps=1e-05, elementwise_affine=True)\n",
              "      (mlp): MLP(\n",
              "        (fc1): Linear(in_features=256, out_features=512, bias=True)\n",
              "        (fc2): Linear(in_features=512, out_features=256, bias=True)\n",
              "        (dropout): Dropout(p=0.1, inplace=False)\n",
              "      )\n",
              "    )\n",
              "    (5): TransformerEncoderLayer(\n",
              "      (norm1): LayerNorm((256,), eps=1e-05, elementwise_affine=True)\n",
              "      (attn): MultiheadAttention(\n",
              "        (out_proj): NonDynamicallyQuantizableLinear(in_features=256, out_features=256, bias=True)\n",
              "      )\n",
              "      (norm2): LayerNorm((256,), eps=1e-05, elementwise_affine=True)\n",
              "      (mlp): MLP(\n",
              "        (fc1): Linear(in_features=256, out_features=512, bias=True)\n",
              "        (fc2): Linear(in_features=512, out_features=256, bias=True)\n",
              "        (dropout): Dropout(p=0.1, inplace=False)\n",
              "      )\n",
              "    )\n",
              "  )\n",
              "  (norm): LayerNorm((256,), eps=1e-05, elementwise_affine=True)\n",
              "  (head): Linear(in_features=256, out_features=10, bias=True)\n",
              ")"
            ]
          },
          "metadata": {},
          "execution_count": 163
        }
      ]
    },
    {
      "cell_type": "markdown",
      "source": [
        "## 9. Defining a Loss function and an optimizer"
      ],
      "metadata": {
        "id": "iNlm4Gd9xmZL"
      }
    },
    {
      "cell_type": "code",
      "source": [
        "criterion = nn.CrossEntropyLoss() # Measure how wrong our model is\n",
        "optimizer = torch.optim.Adam(params=model.parameters(), # update our model's parameters to try and reduce the loss\n",
        "                             lr=LEARNING_RATE)"
      ],
      "metadata": {
        "id": "MCzS2MHXyJ2h"
      },
      "execution_count": 164,
      "outputs": []
    },
    {
      "cell_type": "code",
      "source": [
        "criterion"
      ],
      "metadata": {
        "colab": {
          "base_uri": "https://localhost:8080/"
        },
        "id": "__rYWdvR23xD",
        "outputId": "0f9a3e0d-a71a-41e7-d59e-915f3483fa3c"
      },
      "execution_count": 165,
      "outputs": [
        {
          "output_type": "execute_result",
          "data": {
            "text/plain": [
              "CrossEntropyLoss()"
            ]
          },
          "metadata": {},
          "execution_count": 165
        }
      ]
    },
    {
      "cell_type": "code",
      "source": [
        "optimizer"
      ],
      "metadata": {
        "colab": {
          "base_uri": "https://localhost:8080/"
        },
        "id": "W_wU1ZMA3MJ9",
        "outputId": "6634d369-2799-47c6-8fd3-d678e90387a1"
      },
      "execution_count": 166,
      "outputs": [
        {
          "output_type": "execute_result",
          "data": {
            "text/plain": [
              "Adam (\n",
              "Parameter Group 0\n",
              "    amsgrad: False\n",
              "    betas: (0.9, 0.999)\n",
              "    capturable: False\n",
              "    decoupled_weight_decay: False\n",
              "    differentiable: False\n",
              "    eps: 1e-08\n",
              "    foreach: None\n",
              "    fused: None\n",
              "    lr: 0.0003\n",
              "    maximize: False\n",
              "    weight_decay: 0\n",
              ")"
            ]
          },
          "metadata": {},
          "execution_count": 166
        }
      ]
    },
    {
      "cell_type": "markdown",
      "source": [
        "## 10. Defining a Training Loop function"
      ],
      "metadata": {
        "id": "8EIgfCh13O1D"
      }
    },
    {
      "cell_type": "code",
      "source": [
        "def train(model, loader, optimizer, criterion):\n",
        "  # Set the mode of the model into training\n",
        "  model.train()\n",
        "\n",
        "  total_loss, correct = 0, 0\n",
        "\n",
        "  for x, y in loader:\n",
        "    # Moving (Sending) our data into the target device\n",
        "    x, y = x.to(device), y.to(device)\n",
        "    optimizer.zero_grad()\n",
        "    # 1. Forward pass (model outputs raw logits)\n",
        "    out = model(x)\n",
        "    # 2. Calculate loss (per batch)\n",
        "    loss = criterion(out, y)\n",
        "    # 3. Perform backpropagation\n",
        "    loss.backward()\n",
        "    # 4. Perform Gradient Descent\n",
        "    optimizer.step()\n",
        "\n",
        "    total_loss += loss.item() * x.size(0)\n",
        "    correct += (out.argmax(1) == y).sum().item()\n",
        "  # You have to scale the loss (Normalization step to make the loss general across all batches)\n",
        "  return total_loss / len(loader.dataset), correct / len(loader.dataset)"
      ],
      "metadata": {
        "id": "nslWCAZa3mZ7"
      },
      "execution_count": 167,
      "outputs": []
    },
    {
      "cell_type": "code",
      "source": [
        "def evaluate(model, loader):\n",
        "  model.eval() # Set the mode of the model into evaluation\n",
        "  correct = 0\n",
        "  with torch.inference_mode():\n",
        "    for x, y in loader:\n",
        "      x, y = x.to(device) , y.to(device)\n",
        "      out = model(x)\n",
        "      correct += (out.argmax(dim=1) == y).sum().item()\n",
        "    return correct / len(loader.dataset)"
      ],
      "metadata": {
        "id": "YL1h0HYw-egb"
      },
      "execution_count": 168,
      "outputs": []
    },
    {
      "cell_type": "code",
      "source": [
        "EPOCHS"
      ],
      "metadata": {
        "colab": {
          "base_uri": "https://localhost:8080/"
        },
        "id": "rdXvMyG7AI4C",
        "outputId": "6a63d88c-abab-4485-dd67-9af551c7d915"
      },
      "execution_count": 169,
      "outputs": [
        {
          "output_type": "execute_result",
          "data": {
            "text/plain": [
              "30"
            ]
          },
          "metadata": {},
          "execution_count": 169
        }
      ]
    },
    {
      "cell_type": "code",
      "source": [
        "from tqdm.auto import tqdm"
      ],
      "metadata": {
        "id": "exmx6hb4AKUU"
      },
      "execution_count": 170,
      "outputs": []
    },
    {
      "cell_type": "code",
      "source": [
        "### Training\n",
        "train_accuracies, test_accuracies = [], []\n",
        "\n",
        "for epoch in tqdm(range(EPOCHS)):\n",
        "  train_loss, train_acc = train(model, train_loader, optimizer, criterion)\n",
        "  test_acc = evaluate(model, test_loader)\n",
        "  train_accuracies.append(train_acc)\n",
        "  test_accuracies.append(test_acc)\n",
        "  print(f\"Epoch: {epoch + 1} / {EPOCHS}, Train loss: {train_loss:.4f}, Train acc: {train_acc:.4f}, Test acc: {test_acc:.4f}\")"
      ],
      "metadata": {
        "colab": {
          "base_uri": "https://localhost:8080/",
          "height": 570,
          "referenced_widgets": [
            "3e2f03fcdf6247aa96a8e57d88ea7e03",
            "54736c0c92954618a5202e1af96d6045",
            "be06a302843949728db668602f3a9937",
            "e3f3d88ad72c4a4a8999701cfee673bb",
            "d29732c23e7443b19fb4aa75af08060b",
            "614a6a66a9c346bc9d764df010d5524d",
            "84a8830e104a41e3a3e24027df56164f",
            "43811552733644d2b78c609c383e8b55",
            "adc0afe4ef7144ebba6da7e17f51691b",
            "9b2cce2dfa0041d8bbc0ee716e3a65af",
            "5246ab6d6cf94cbe803fbf6cf2f452c7"
          ]
        },
        "id": "9ZKamwRjBL9c",
        "outputId": "1752e0cb-8b42-48c5-f425-29fae889dd5e"
      },
      "execution_count": 171,
      "outputs": [
        {
          "output_type": "display_data",
          "data": {
            "text/plain": [
              "  0%|          | 0/30 [00:00<?, ?it/s]"
            ],
            "application/vnd.jupyter.widget-view+json": {
              "version_major": 2,
              "version_minor": 0,
              "model_id": "3e2f03fcdf6247aa96a8e57d88ea7e03"
            }
          },
          "metadata": {}
        },
        {
          "output_type": "stream",
          "name": "stdout",
          "text": [
            "Epoch: 1 / 30, Train loss: 1.9455, Train acc: 0.2869, Test acc: 0.3567\n",
            "Epoch: 2 / 30, Train loss: 1.6788, Train acc: 0.3913, Test acc: 0.4262\n",
            "Epoch: 3 / 30, Train loss: 1.5693, Train acc: 0.4313, Test acc: 0.4669\n",
            "Epoch: 4 / 30, Train loss: 1.4844, Train acc: 0.4660, Test acc: 0.4719\n",
            "Epoch: 5 / 30, Train loss: 1.4292, Train acc: 0.4858, Test acc: 0.5067\n",
            "Epoch: 6 / 30, Train loss: 1.3671, Train acc: 0.5083, Test acc: 0.5229\n",
            "Epoch: 7 / 30, Train loss: 1.3269, Train acc: 0.5244, Test acc: 0.5331\n",
            "Epoch: 8 / 30, Train loss: 1.2777, Train acc: 0.5434, Test acc: 0.5530\n",
            "Epoch: 9 / 30, Train loss: 1.2317, Train acc: 0.5605, Test acc: 0.5723\n",
            "Epoch: 10 / 30, Train loss: 1.1946, Train acc: 0.5710, Test acc: 0.5776\n",
            "Epoch: 11 / 30, Train loss: 1.1591, Train acc: 0.5866, Test acc: 0.5885\n",
            "Epoch: 12 / 30, Train loss: 1.1256, Train acc: 0.5974, Test acc: 0.5968\n",
            "Epoch: 13 / 30, Train loss: 1.0908, Train acc: 0.6116, Test acc: 0.6083\n",
            "Epoch: 14 / 30, Train loss: 1.0680, Train acc: 0.6185, Test acc: 0.6335\n",
            "Epoch: 15 / 30, Train loss: 1.0385, Train acc: 0.6314, Test acc: 0.6361\n",
            "Epoch: 16 / 30, Train loss: 1.0109, Train acc: 0.6417, Test acc: 0.6271\n",
            "Epoch: 17 / 30, Train loss: 0.9813, Train acc: 0.6524, Test acc: 0.6472\n",
            "Epoch: 18 / 30, Train loss: 0.9612, Train acc: 0.6591, Test acc: 0.6586\n",
            "Epoch: 19 / 30, Train loss: 0.9387, Train acc: 0.6680, Test acc: 0.6667\n",
            "Epoch: 20 / 30, Train loss: 0.9166, Train acc: 0.6766, Test acc: 0.6755\n",
            "Epoch: 21 / 30, Train loss: 0.8922, Train acc: 0.6836, Test acc: 0.6779\n",
            "Epoch: 22 / 30, Train loss: 0.8635, Train acc: 0.6950, Test acc: 0.6811\n",
            "Epoch: 23 / 30, Train loss: 0.8446, Train acc: 0.6997, Test acc: 0.6877\n",
            "Epoch: 24 / 30, Train loss: 0.8235, Train acc: 0.7061, Test acc: 0.7007\n",
            "Epoch: 25 / 30, Train loss: 0.8026, Train acc: 0.7148, Test acc: 0.7078\n",
            "Epoch: 26 / 30, Train loss: 0.7841, Train acc: 0.7234, Test acc: 0.7109\n",
            "Epoch: 27 / 30, Train loss: 0.7668, Train acc: 0.7299, Test acc: 0.7160\n",
            "Epoch: 28 / 30, Train loss: 0.7510, Train acc: 0.7348, Test acc: 0.7203\n",
            "Epoch: 29 / 30, Train loss: 0.7406, Train acc: 0.7387, Test acc: 0.7303\n",
            "Epoch: 30 / 30, Train loss: 0.7164, Train acc: 0.7452, Test acc: 0.7198\n"
          ]
        }
      ]
    },
    {
      "cell_type": "code",
      "source": [
        "train_accuracies"
      ],
      "metadata": {
        "id": "Vpd0k8yQCNVl",
        "colab": {
          "base_uri": "https://localhost:8080/",
          "height": 141
        },
        "outputId": "6d94b213-826f-440f-e5e3-497d0a28a007"
      },
      "execution_count": 1,
      "outputs": [
        {
          "output_type": "error",
          "ename": "NameError",
          "evalue": "name 'train_accuracies' is not defined",
          "traceback": [
            "\u001b[0;31m---------------------------------------------------------------------------\u001b[0m",
            "\u001b[0;31mNameError\u001b[0m                                 Traceback (most recent call last)",
            "\u001b[0;32m/tmp/ipython-input-516839210.py\u001b[0m in \u001b[0;36m<cell line: 0>\u001b[0;34m()\u001b[0m\n\u001b[0;32m----> 1\u001b[0;31m \u001b[0mtrain_accuracies\u001b[0m\u001b[0;34m\u001b[0m\u001b[0;34m\u001b[0m\u001b[0m\n\u001b[0m",
            "\u001b[0;31mNameError\u001b[0m: name 'train_accuracies' is not defined"
          ]
        }
      ]
    },
    {
      "cell_type": "code",
      "source": [
        "test_accuracies"
      ],
      "metadata": {
        "colab": {
          "base_uri": "https://localhost:8080/"
        },
        "id": "DfhQYbYYvjW8",
        "outputId": "c576d044-e85f-4766-a67d-95adbc48d2b4"
      },
      "execution_count": null,
      "outputs": [
        {
          "output_type": "execute_result",
          "data": {
            "text/plain": [
              "[0.3789,\n",
              " 0.4475,\n",
              " 0.4823,\n",
              " 0.5071,\n",
              " 0.516,\n",
              " 0.5461,\n",
              " 0.5617,\n",
              " 0.5762,\n",
              " 0.5828,\n",
              " 0.5965,\n",
              " 0.6109,\n",
              " 0.6237,\n",
              " 0.6316,\n",
              " 0.6347,\n",
              " 0.6424,\n",
              " 0.6486,\n",
              " 0.6662,\n",
              " 0.6698,\n",
              " 0.6715,\n",
              " 0.6821,\n",
              " 0.6822,\n",
              " 0.6843,\n",
              " 0.6899,\n",
              " 0.7104,\n",
              " 0.7043,\n",
              " 0.7116,\n",
              " 0.7124,\n",
              " 0.7249,\n",
              " 0.7256,\n",
              " 0.7289]"
            ]
          },
          "metadata": {},
          "execution_count": 47
        }
      ]
    },
    {
      "cell_type": "code",
      "source": [
        "# Plot accuracy\n",
        "plt.plot(train_accuracies, label=\"Train Accuracy\")\n",
        "plt.plot(test_accuracies, label=\"Test Accuracy\")\n",
        "plt.xlabel(\"Epochs\")\n",
        "plt.ylabel(\"Accuracy\")\n",
        "plt.legend()\n",
        "plt.title(\"Training and Test Accuracy\")\n",
        "plt.show()"
      ],
      "metadata": {
        "colab": {
          "base_uri": "https://localhost:8080/",
          "height": 472
        },
        "id": "wLFzlFtavs6L",
        "outputId": "13b0ac90-9985-4fc0-a45b-04bfd46466af"
      },
      "execution_count": null,
      "outputs": [
        {
          "output_type": "display_data",
          "data": {
            "text/plain": [
              "<Figure size 640x480 with 1 Axes>"
            ],
            "image/png": "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\n"
          },
          "metadata": {}
        }
      ]
    },
    {
      "cell_type": "code",
      "source": [
        "import random"
      ],
      "metadata": {
        "id": "yY1qZvwqwTc0"
      },
      "execution_count": null,
      "outputs": []
    },
    {
      "cell_type": "code",
      "source": [
        "test_dataset[0]"
      ],
      "metadata": {
        "colab": {
          "base_uri": "https://localhost:8080/"
        },
        "id": "WNkYPvfywkz8",
        "outputId": "fbfdecfa-3c6a-4288-fd51-d7777f1b7ab2"
      },
      "execution_count": null,
      "outputs": [
        {
          "output_type": "execute_result",
          "data": {
            "text/plain": [
              "(tensor([[[-0.8902, -0.8902, -0.8902,  ..., -0.8902, -0.8902, -0.8902],\n",
              "          [-0.8902, -0.8902, -0.0039,  ..., -0.0824, -0.0824, -0.1373],\n",
              "          [-0.8902, -0.8902, -0.0510,  ..., -0.0902, -0.1137, -0.1765],\n",
              "          ...,\n",
              "          [-0.8902, -0.8902, -0.3882,  ..., -0.2863, -0.4039, -0.5294],\n",
              "          [-0.8902, -0.8902, -0.2471,  ..., -0.2314, -0.3412, -0.4980],\n",
              "          [-0.8902, -0.8902, -0.2941,  ..., -0.0980, -0.3255, -0.5843]],\n",
              " \n",
              "         [[-0.8902, -0.8902, -0.8902,  ..., -0.8902, -0.8902, -0.8902],\n",
              "          [-0.8902, -0.8902,  0.2392,  ...,  0.1137,  0.1294,  0.0824],\n",
              "          [-0.8902, -0.8902,  0.1922,  ...,  0.1216,  0.1294,  0.0745],\n",
              "          ...,\n",
              "          [-0.8902, -0.8902, -0.5529,  ..., -0.4588, -0.5765, -0.6863],\n",
              "          [-0.8902, -0.8902, -0.4275,  ..., -0.3882, -0.5059, -0.6392],\n",
              "          [-0.8902, -0.8902, -0.4745,  ..., -0.2392, -0.4745, -0.7255]],\n",
              " \n",
              "         [[-0.8902, -0.8902, -0.8902,  ..., -0.8902, -0.8902, -0.8902],\n",
              "          [-0.8902, -0.8902, -0.6000,  ..., -0.6392, -0.6784, -0.6863],\n",
              "          [-0.8902, -0.8902, -0.5765,  ..., -0.6784, -0.7098, -0.7255],\n",
              "          ...,\n",
              "          [-0.8902, -0.8902,  0.3020,  ...,  0.4275,  0.3255,  0.1529],\n",
              "          [-0.8902, -0.8902,  0.4118,  ...,  0.4431,  0.3490,  0.1922],\n",
              "          [-0.8902, -0.8902,  0.3490,  ...,  0.4980,  0.3176,  0.0745]]]),\n",
              " 3)"
            ]
          },
          "metadata": {},
          "execution_count": 50
        }
      ]
    },
    {
      "cell_type": "code",
      "source": [
        "test_dataset[0][0].shape"
      ],
      "metadata": {
        "colab": {
          "base_uri": "https://localhost:8080/"
        },
        "id": "_4yXN8voxYik",
        "outputId": "b6ed89e7-133b-4fee-b3e4-30854dc88bc1"
      },
      "execution_count": null,
      "outputs": [
        {
          "output_type": "execute_result",
          "data": {
            "text/plain": [
              "torch.Size([3, 32, 32])"
            ]
          },
          "metadata": {},
          "execution_count": 51
        }
      ]
    },
    {
      "cell_type": "code",
      "source": [
        "test_dataset[0][0].unsqueeze(dim=0).shape"
      ],
      "metadata": {
        "colab": {
          "base_uri": "https://localhost:8080/"
        },
        "id": "itTmWURsxgH0",
        "outputId": "af0fd3b9-80d2-4104-940e-8572b5e8320e"
      },
      "execution_count": null,
      "outputs": [
        {
          "output_type": "execute_result",
          "data": {
            "text/plain": [
              "torch.Size([1, 3, 32, 32])"
            ]
          },
          "metadata": {},
          "execution_count": 52
        }
      ]
    },
    {
      "cell_type": "code",
      "source": [
        "test_dataset[0][0] / 2 + 0.5"
      ],
      "metadata": {
        "colab": {
          "base_uri": "https://localhost:8080/"
        },
        "id": "o0qsc59KyJS0",
        "outputId": "1b821c3b-9435-46f1-c304-e7d9ed63c02b"
      },
      "execution_count": null,
      "outputs": [
        {
          "output_type": "execute_result",
          "data": {
            "text/plain": [
              "tensor([[[0.5843, 0.5686, 0.5922,  ..., 0.0000, 0.0000, 0.0000],\n",
              "         [0.5922, 0.5843, 0.6000,  ..., 0.0000, 0.0000, 0.0000],\n",
              "         [0.5843, 0.5961, 0.6039,  ..., 0.0000, 0.0000, 0.0000],\n",
              "         ...,\n",
              "         [0.1412, 0.1608, 0.1529,  ..., 0.0000, 0.0000, 0.0000],\n",
              "         [0.1490, 0.1569, 0.1647,  ..., 0.0000, 0.0000, 0.0000],\n",
              "         [0.1490, 0.1490, 0.1490,  ..., 0.0000, 0.0000, 0.0000]],\n",
              "\n",
              "        [[0.5176, 0.5137, 0.5333,  ..., 0.0000, 0.0000, 0.0000],\n",
              "         [0.5176, 0.5294, 0.5412,  ..., 0.0000, 0.0000, 0.0000],\n",
              "         [0.5059, 0.5333, 0.5412,  ..., 0.0000, 0.0000, 0.0000],\n",
              "         ...,\n",
              "         [0.2235, 0.2392, 0.2275,  ..., 0.0000, 0.0000, 0.0000],\n",
              "         [0.2353, 0.2510, 0.2431,  ..., 0.0000, 0.0000, 0.0000],\n",
              "         [0.2392, 0.2431, 0.2314,  ..., 0.0000, 0.0000, 0.0000]],\n",
              "\n",
              "        [[0.2039, 0.1882, 0.2118,  ..., 0.0000, 0.0000, 0.0000],\n",
              "         [0.2157, 0.1961, 0.2118,  ..., 0.0000, 0.0000, 0.0000],\n",
              "         [0.1922, 0.2000, 0.2078,  ..., 0.0000, 0.0000, 0.0000],\n",
              "         ...,\n",
              "         [0.4784, 0.4549, 0.3922,  ..., 0.0000, 0.0000, 0.0000],\n",
              "         [0.4824, 0.4627, 0.4353,  ..., 0.0000, 0.0000, 0.0000],\n",
              "         [0.4627, 0.4549, 0.4275,  ..., 0.0000, 0.0000, 0.0000]]])"
            ]
          },
          "metadata": {},
          "execution_count": 53
        }
      ]
    },
    {
      "cell_type": "code",
      "source": [
        "def predict_and_plot_grid(model,\n",
        "                          dataset,\n",
        "                          classes,\n",
        "                          grid_size=3):\n",
        "  model.eval()\n",
        "  fig, axes = plt.subplots(grid_size, grid_size, figsize=(9,9))\n",
        "  for i in range(grid_size):\n",
        "    for j in range(grid_size):\n",
        "      idx = random.randint(0, len(dataset) - 1)\n",
        "      img, true_label = dataset[idx]\n",
        "      input_tensor = img.unsqueeze(dim=0).to(device)\n",
        "      with torch.inference_mode():\n",
        "        output = model(input_tensor)\n",
        "        _, predicted = torch.max(output.data, 1)\n",
        "      img = img / 2 + 0.5 # Unnormalize our images to be able to use them with matplotlib\n",
        "      npimg = img.cpu().numpy()\n",
        "      axes[i, j].imshow(np.transpose(npimg, (1, 2, 0)))\n",
        "      truth = classes[true_label] == classes[predicted.item()]\n",
        "      if truth:\n",
        "        color = \"g\"\n",
        "      else:\n",
        "        color = \"r\"\n",
        "      axes[i, j].set_title(f\"Truth: {classes[true_label]}\\n, Predicted: {classes[predicted.item()]}\", fontsize=10, c=color)\n",
        "      axes[i, j].axis(\"off\")\n",
        "  plt.tight_layout()\n",
        "  plt.show()"
      ],
      "metadata": {
        "id": "JBpXGYhlyOwN"
      },
      "execution_count": null,
      "outputs": []
    },
    {
      "cell_type": "code",
      "source": [
        "predict_and_plot_grid(model, test_dataset, classes=train_dataset.classes, grid_size=3)"
      ],
      "metadata": {
        "colab": {
          "base_uri": "https://localhost:8080/",
          "height": 906
        },
        "id": "WcHEZ3_D1OIO",
        "outputId": "c26c83da-0678-4ec0-b61c-7e59f9712396"
      },
      "execution_count": null,
      "outputs": [
        {
          "output_type": "display_data",
          "data": {
            "text/plain": [
              "<Figure size 900x900 with 9 Axes>"
            ],
            "image/png": "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\n"
          },
          "metadata": {}
        }
      ]
    },
    {
      "cell_type": "code",
      "source": [],
      "metadata": {
        "id": "tAufSWRT4xAA"
      },
      "execution_count": null,
      "outputs": []
    }
  ]
}
